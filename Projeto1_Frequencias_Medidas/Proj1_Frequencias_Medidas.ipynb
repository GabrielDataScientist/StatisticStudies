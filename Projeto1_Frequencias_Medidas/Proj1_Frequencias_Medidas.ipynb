{
 "cells": [
  {
   "cell_type": "markdown",
   "id": "4d8dab9e",
   "metadata": {},
   "source": [
    "# Importando a base de dados"
   ]
  },
  {
   "cell_type": "code",
   "execution_count": 72,
   "id": "99350f47",
   "metadata": {},
   "outputs": [],
   "source": [
    "import pandas as pd\n",
    "import seaborn as sns\n",
    "import warnings\n",
    "\n",
    "warnings.filterwarnings(\"ignore\")"
   ]
  },
  {
   "cell_type": "code",
   "execution_count": 73,
   "id": "3177562b",
   "metadata": {},
   "outputs": [
    {
     "data": {
      "text/html": [
       "<div>\n",
       "<style scoped>\n",
       "    .dataframe tbody tr th:only-of-type {\n",
       "        vertical-align: middle;\n",
       "    }\n",
       "\n",
       "    .dataframe tbody tr th {\n",
       "        vertical-align: top;\n",
       "    }\n",
       "\n",
       "    .dataframe thead th {\n",
       "        text-align: right;\n",
       "    }\n",
       "</style>\n",
       "<table border=\"1\" class=\"dataframe\">\n",
       "  <thead>\n",
       "    <tr style=\"text-align: right;\">\n",
       "      <th></th>\n",
       "      <th>UF</th>\n",
       "      <th>Sexo</th>\n",
       "      <th>Idade</th>\n",
       "      <th>Cor</th>\n",
       "      <th>Anos de Estudo</th>\n",
       "      <th>Renda</th>\n",
       "      <th>Altura</th>\n",
       "    </tr>\n",
       "  </thead>\n",
       "  <tbody>\n",
       "    <tr>\n",
       "      <th>0</th>\n",
       "      <td>11</td>\n",
       "      <td>0</td>\n",
       "      <td>23</td>\n",
       "      <td>8</td>\n",
       "      <td>12</td>\n",
       "      <td>800</td>\n",
       "      <td>1.603808</td>\n",
       "    </tr>\n",
       "    <tr>\n",
       "      <th>1</th>\n",
       "      <td>11</td>\n",
       "      <td>1</td>\n",
       "      <td>23</td>\n",
       "      <td>2</td>\n",
       "      <td>12</td>\n",
       "      <td>1150</td>\n",
       "      <td>1.739790</td>\n",
       "    </tr>\n",
       "    <tr>\n",
       "      <th>2</th>\n",
       "      <td>11</td>\n",
       "      <td>1</td>\n",
       "      <td>35</td>\n",
       "      <td>8</td>\n",
       "      <td>15</td>\n",
       "      <td>880</td>\n",
       "      <td>1.760444</td>\n",
       "    </tr>\n",
       "    <tr>\n",
       "      <th>3</th>\n",
       "      <td>11</td>\n",
       "      <td>0</td>\n",
       "      <td>46</td>\n",
       "      <td>2</td>\n",
       "      <td>6</td>\n",
       "      <td>3500</td>\n",
       "      <td>1.783158</td>\n",
       "    </tr>\n",
       "    <tr>\n",
       "      <th>4</th>\n",
       "      <td>11</td>\n",
       "      <td>1</td>\n",
       "      <td>47</td>\n",
       "      <td>8</td>\n",
       "      <td>9</td>\n",
       "      <td>150</td>\n",
       "      <td>1.690631</td>\n",
       "    </tr>\n",
       "    <tr>\n",
       "      <th>...</th>\n",
       "      <td>...</td>\n",
       "      <td>...</td>\n",
       "      <td>...</td>\n",
       "      <td>...</td>\n",
       "      <td>...</td>\n",
       "      <td>...</td>\n",
       "      <td>...</td>\n",
       "    </tr>\n",
       "    <tr>\n",
       "      <th>76835</th>\n",
       "      <td>53</td>\n",
       "      <td>1</td>\n",
       "      <td>46</td>\n",
       "      <td>2</td>\n",
       "      <td>11</td>\n",
       "      <td>812</td>\n",
       "      <td>1.687030</td>\n",
       "    </tr>\n",
       "    <tr>\n",
       "      <th>76836</th>\n",
       "      <td>53</td>\n",
       "      <td>0</td>\n",
       "      <td>30</td>\n",
       "      <td>4</td>\n",
       "      <td>7</td>\n",
       "      <td>1500</td>\n",
       "      <td>1.792934</td>\n",
       "    </tr>\n",
       "    <tr>\n",
       "      <th>76837</th>\n",
       "      <td>53</td>\n",
       "      <td>0</td>\n",
       "      <td>32</td>\n",
       "      <td>8</td>\n",
       "      <td>12</td>\n",
       "      <td>1300</td>\n",
       "      <td>1.830587</td>\n",
       "    </tr>\n",
       "    <tr>\n",
       "      <th>76838</th>\n",
       "      <td>53</td>\n",
       "      <td>0</td>\n",
       "      <td>57</td>\n",
       "      <td>8</td>\n",
       "      <td>4</td>\n",
       "      <td>1500</td>\n",
       "      <td>1.726344</td>\n",
       "    </tr>\n",
       "    <tr>\n",
       "      <th>76839</th>\n",
       "      <td>53</td>\n",
       "      <td>0</td>\n",
       "      <td>38</td>\n",
       "      <td>8</td>\n",
       "      <td>4</td>\n",
       "      <td>900</td>\n",
       "      <td>1.658305</td>\n",
       "    </tr>\n",
       "  </tbody>\n",
       "</table>\n",
       "<p>76840 rows × 7 columns</p>\n",
       "</div>"
      ],
      "text/plain": [
       "       UF  Sexo  Idade  Cor  Anos de Estudo  Renda    Altura\n",
       "0      11     0     23    8              12    800  1.603808\n",
       "1      11     1     23    2              12   1150  1.739790\n",
       "2      11     1     35    8              15    880  1.760444\n",
       "3      11     0     46    2               6   3500  1.783158\n",
       "4      11     1     47    8               9    150  1.690631\n",
       "...    ..   ...    ...  ...             ...    ...       ...\n",
       "76835  53     1     46    2              11    812  1.687030\n",
       "76836  53     0     30    4               7   1500  1.792934\n",
       "76837  53     0     32    8              12   1300  1.830587\n",
       "76838  53     0     57    8               4   1500  1.726344\n",
       "76839  53     0     38    8               4    900  1.658305\n",
       "\n",
       "[76840 rows x 7 columns]"
      ]
     },
     "execution_count": 73,
     "metadata": {},
     "output_type": "execute_result"
    }
   ],
   "source": [
    "dt = pd.read_csv(\"dados.csv\", sep=\",\")\n",
    "dt"
   ]
  },
  {
   "cell_type": "markdown",
   "id": "1df22fc2",
   "metadata": {},
   "source": [
    "# Pré análise dos dados"
   ]
  },
  {
   "cell_type": "code",
   "execution_count": 74,
   "id": "d15c57cc",
   "metadata": {},
   "outputs": [
    {
     "data": {
      "text/plain": [
       "pandas.core.frame.DataFrame"
      ]
     },
     "execution_count": 74,
     "metadata": {},
     "output_type": "execute_result"
    }
   ],
   "source": [
    "type(dt)"
   ]
  },
  {
   "cell_type": "markdown",
   "id": "d7c8657e",
   "metadata": {},
   "source": [
    "### Dados estatísticos"
   ]
  },
  {
   "cell_type": "code",
   "execution_count": 75,
   "id": "553c857f",
   "metadata": {},
   "outputs": [
    {
     "data": {
      "text/html": [
       "<div>\n",
       "<style scoped>\n",
       "    .dataframe tbody tr th:only-of-type {\n",
       "        vertical-align: middle;\n",
       "    }\n",
       "\n",
       "    .dataframe tbody tr th {\n",
       "        vertical-align: top;\n",
       "    }\n",
       "\n",
       "    .dataframe thead th {\n",
       "        text-align: right;\n",
       "    }\n",
       "</style>\n",
       "<table border=\"1\" class=\"dataframe\">\n",
       "  <thead>\n",
       "    <tr style=\"text-align: right;\">\n",
       "      <th></th>\n",
       "      <th>UF</th>\n",
       "      <th>Sexo</th>\n",
       "      <th>Idade</th>\n",
       "      <th>Cor</th>\n",
       "      <th>Anos de Estudo</th>\n",
       "      <th>Renda</th>\n",
       "      <th>Altura</th>\n",
       "    </tr>\n",
       "  </thead>\n",
       "  <tbody>\n",
       "    <tr>\n",
       "      <th>count</th>\n",
       "      <td>76840.000000</td>\n",
       "      <td>76840.000000</td>\n",
       "      <td>76840.000000</td>\n",
       "      <td>76840.000000</td>\n",
       "      <td>76840.000000</td>\n",
       "      <td>76840.000000</td>\n",
       "      <td>76840.000000</td>\n",
       "    </tr>\n",
       "    <tr>\n",
       "      <th>mean</th>\n",
       "      <td>31.912962</td>\n",
       "      <td>0.307002</td>\n",
       "      <td>44.071421</td>\n",
       "      <td>5.032613</td>\n",
       "      <td>9.469664</td>\n",
       "      <td>2000.383199</td>\n",
       "      <td>1.699512</td>\n",
       "    </tr>\n",
       "    <tr>\n",
       "      <th>std</th>\n",
       "      <td>11.147830</td>\n",
       "      <td>0.461253</td>\n",
       "      <td>12.480583</td>\n",
       "      <td>2.857118</td>\n",
       "      <td>4.539929</td>\n",
       "      <td>3323.387730</td>\n",
       "      <td>0.079717</td>\n",
       "    </tr>\n",
       "    <tr>\n",
       "      <th>min</th>\n",
       "      <td>11.000000</td>\n",
       "      <td>0.000000</td>\n",
       "      <td>13.000000</td>\n",
       "      <td>0.000000</td>\n",
       "      <td>1.000000</td>\n",
       "      <td>0.000000</td>\n",
       "      <td>1.339245</td>\n",
       "    </tr>\n",
       "    <tr>\n",
       "      <th>25%</th>\n",
       "      <td>25.000000</td>\n",
       "      <td>0.000000</td>\n",
       "      <td>34.000000</td>\n",
       "      <td>2.000000</td>\n",
       "      <td>6.000000</td>\n",
       "      <td>788.000000</td>\n",
       "      <td>1.645785</td>\n",
       "    </tr>\n",
       "    <tr>\n",
       "      <th>50%</th>\n",
       "      <td>31.000000</td>\n",
       "      <td>0.000000</td>\n",
       "      <td>43.000000</td>\n",
       "      <td>4.000000</td>\n",
       "      <td>11.000000</td>\n",
       "      <td>1200.000000</td>\n",
       "      <td>1.699325</td>\n",
       "    </tr>\n",
       "    <tr>\n",
       "      <th>75%</th>\n",
       "      <td>41.000000</td>\n",
       "      <td>1.000000</td>\n",
       "      <td>53.000000</td>\n",
       "      <td>8.000000</td>\n",
       "      <td>12.000000</td>\n",
       "      <td>2000.000000</td>\n",
       "      <td>1.753062</td>\n",
       "    </tr>\n",
       "    <tr>\n",
       "      <th>max</th>\n",
       "      <td>53.000000</td>\n",
       "      <td>1.000000</td>\n",
       "      <td>99.000000</td>\n",
       "      <td>8.000000</td>\n",
       "      <td>17.000000</td>\n",
       "      <td>200000.000000</td>\n",
       "      <td>2.028497</td>\n",
       "    </tr>\n",
       "  </tbody>\n",
       "</table>\n",
       "</div>"
      ],
      "text/plain": [
       "                 UF          Sexo         Idade           Cor  Anos de Estudo  \\\n",
       "count  76840.000000  76840.000000  76840.000000  76840.000000    76840.000000   \n",
       "mean      31.912962      0.307002     44.071421      5.032613        9.469664   \n",
       "std       11.147830      0.461253     12.480583      2.857118        4.539929   \n",
       "min       11.000000      0.000000     13.000000      0.000000        1.000000   \n",
       "25%       25.000000      0.000000     34.000000      2.000000        6.000000   \n",
       "50%       31.000000      0.000000     43.000000      4.000000       11.000000   \n",
       "75%       41.000000      1.000000     53.000000      8.000000       12.000000   \n",
       "max       53.000000      1.000000     99.000000      8.000000       17.000000   \n",
       "\n",
       "               Renda        Altura  \n",
       "count   76840.000000  76840.000000  \n",
       "mean     2000.383199      1.699512  \n",
       "std      3323.387730      0.079717  \n",
       "min         0.000000      1.339245  \n",
       "25%       788.000000      1.645785  \n",
       "50%      1200.000000      1.699325  \n",
       "75%      2000.000000      1.753062  \n",
       "max    200000.000000      2.028497  "
      ]
     },
     "execution_count": 75,
     "metadata": {},
     "output_type": "execute_result"
    }
   ],
   "source": [
    "dt.describe()"
   ]
  },
  {
   "cell_type": "markdown",
   "id": "aedace3f",
   "metadata": {},
   "source": [
    "### Informações do dt"
   ]
  },
  {
   "cell_type": "code",
   "execution_count": 76,
   "id": "02e02156",
   "metadata": {},
   "outputs": [
    {
     "name": "stdout",
     "output_type": "stream",
     "text": [
      "<class 'pandas.core.frame.DataFrame'>\n",
      "RangeIndex: 76840 entries, 0 to 76839\n",
      "Data columns (total 7 columns):\n",
      " #   Column          Non-Null Count  Dtype  \n",
      "---  ------          --------------  -----  \n",
      " 0   UF              76840 non-null  int64  \n",
      " 1   Sexo            76840 non-null  int64  \n",
      " 2   Idade           76840 non-null  int64  \n",
      " 3   Cor             76840 non-null  int64  \n",
      " 4   Anos de Estudo  76840 non-null  int64  \n",
      " 5   Renda           76840 non-null  int64  \n",
      " 6   Altura          76840 non-null  float64\n",
      "dtypes: float64(1), int64(6)\n",
      "memory usage: 4.1 MB\n"
     ]
    }
   ],
   "source": [
    "dt.info()"
   ]
  },
  {
   "cell_type": "markdown",
   "id": "21857f33",
   "metadata": {},
   "source": [
    "# 1) - TIPOS DE VARIÁVEIS"
   ]
  },
  {
   "cell_type": "markdown",
   "id": "f8721600",
   "metadata": {},
   "source": [
    "<img src=\"variaveisquantitativas_qualitativas.png\" width=\"600\" height=\"600\" />"
   ]
  },
  {
   "cell_type": "markdown",
   "id": "31eed6f5",
   "metadata": {},
   "source": [
    "## VARIÁVEIS QUALITATIVAS\n",
    "\n",
    "São aquelas cujos valores podem ser separados em diferentes categorias que se distinguem por alguma característica não numérica. Ex.: Masculino e feminino, cor do cabelo, cor da pele"
   ]
  },
  {
   "cell_type": "markdown",
   "id": "809e8e4e",
   "metadata": {},
   "source": [
    "## Variáveis qualitativas ordinais\n",
    "\n",
    "São variáveis que podem ser ordenadas/hierarquizadas. Grau de instrução, faixa de idades, patentes e etc."
   ]
  },
  {
   "cell_type": "code",
   "execution_count": 77,
   "id": "60a3d668",
   "metadata": {},
   "outputs": [
    {
     "data": {
      "text/html": [
       "<div>\n",
       "<style scoped>\n",
       "    .dataframe tbody tr th:only-of-type {\n",
       "        vertical-align: middle;\n",
       "    }\n",
       "\n",
       "    .dataframe tbody tr th {\n",
       "        vertical-align: top;\n",
       "    }\n",
       "\n",
       "    .dataframe thead th {\n",
       "        text-align: right;\n",
       "    }\n",
       "</style>\n",
       "<table border=\"1\" class=\"dataframe\">\n",
       "  <thead>\n",
       "    <tr style=\"text-align: right;\">\n",
       "      <th></th>\n",
       "      <th>UF</th>\n",
       "      <th>Sexo</th>\n",
       "      <th>Idade</th>\n",
       "      <th>Cor</th>\n",
       "      <th>Anos de Estudo</th>\n",
       "      <th>Renda</th>\n",
       "      <th>Altura</th>\n",
       "    </tr>\n",
       "  </thead>\n",
       "  <tbody>\n",
       "    <tr>\n",
       "      <th>0</th>\n",
       "      <td>11</td>\n",
       "      <td>0</td>\n",
       "      <td>23</td>\n",
       "      <td>8</td>\n",
       "      <td>12</td>\n",
       "      <td>800</td>\n",
       "      <td>1.603808</td>\n",
       "    </tr>\n",
       "    <tr>\n",
       "      <th>1</th>\n",
       "      <td>11</td>\n",
       "      <td>1</td>\n",
       "      <td>23</td>\n",
       "      <td>2</td>\n",
       "      <td>12</td>\n",
       "      <td>1150</td>\n",
       "      <td>1.739790</td>\n",
       "    </tr>\n",
       "    <tr>\n",
       "      <th>2</th>\n",
       "      <td>11</td>\n",
       "      <td>1</td>\n",
       "      <td>35</td>\n",
       "      <td>8</td>\n",
       "      <td>15</td>\n",
       "      <td>880</td>\n",
       "      <td>1.760444</td>\n",
       "    </tr>\n",
       "    <tr>\n",
       "      <th>3</th>\n",
       "      <td>11</td>\n",
       "      <td>0</td>\n",
       "      <td>46</td>\n",
       "      <td>2</td>\n",
       "      <td>6</td>\n",
       "      <td>3500</td>\n",
       "      <td>1.783158</td>\n",
       "    </tr>\n",
       "    <tr>\n",
       "      <th>4</th>\n",
       "      <td>11</td>\n",
       "      <td>1</td>\n",
       "      <td>47</td>\n",
       "      <td>8</td>\n",
       "      <td>9</td>\n",
       "      <td>150</td>\n",
       "      <td>1.690631</td>\n",
       "    </tr>\n",
       "  </tbody>\n",
       "</table>\n",
       "</div>"
      ],
      "text/plain": [
       "   UF  Sexo  Idade  Cor  Anos de Estudo  Renda    Altura\n",
       "0  11     0     23    8              12    800  1.603808\n",
       "1  11     1     23    2              12   1150  1.739790\n",
       "2  11     1     35    8              15    880  1.760444\n",
       "3  11     0     46    2               6   3500  1.783158\n",
       "4  11     1     47    8               9    150  1.690631"
      ]
     },
     "execution_count": 77,
     "metadata": {},
     "output_type": "execute_result"
    }
   ],
   "source": [
    "dt.head()"
   ]
  },
  {
   "cell_type": "code",
   "execution_count": 78,
   "id": "d7322370",
   "metadata": {},
   "outputs": [
    {
     "data": {
      "text/plain": [
       "[1, 2, 3, 4, 5, 6, 7, 8, 9, 10, 11, 12, 13, 14, 15, 16, 17]"
      ]
     },
     "execution_count": 78,
     "metadata": {},
     "output_type": "execute_result"
    }
   ],
   "source": [
    "sorted(dt['Anos de Estudo'].unique())"
   ]
  },
  {
   "cell_type": "markdown",
   "id": "b0f7518f",
   "metadata": {},
   "source": [
    "As variáveis(features) \"Anos de Estudo\", \"Renda\" e \"Altura\" podem ser classificadas como variáveis qualitativas ordinais."
   ]
  },
  {
   "cell_type": "markdown",
   "id": "73907408",
   "metadata": {},
   "source": [
    "## Variáveis qualitativas nominais\n",
    "\n",
    "Quando uma ordem não pode ser estabelecida nos seus valores ou quando essa ordem não importa no resultado final."
   ]
  },
  {
   "cell_type": "code",
   "execution_count": 79,
   "id": "43803b20",
   "metadata": {},
   "outputs": [
    {
     "data": {
      "text/html": [
       "<div>\n",
       "<style scoped>\n",
       "    .dataframe tbody tr th:only-of-type {\n",
       "        vertical-align: middle;\n",
       "    }\n",
       "\n",
       "    .dataframe tbody tr th {\n",
       "        vertical-align: top;\n",
       "    }\n",
       "\n",
       "    .dataframe thead th {\n",
       "        text-align: right;\n",
       "    }\n",
       "</style>\n",
       "<table border=\"1\" class=\"dataframe\">\n",
       "  <thead>\n",
       "    <tr style=\"text-align: right;\">\n",
       "      <th></th>\n",
       "      <th>UF</th>\n",
       "      <th>Sexo</th>\n",
       "      <th>Idade</th>\n",
       "      <th>Cor</th>\n",
       "      <th>Anos de Estudo</th>\n",
       "      <th>Renda</th>\n",
       "      <th>Altura</th>\n",
       "    </tr>\n",
       "  </thead>\n",
       "  <tbody>\n",
       "    <tr>\n",
       "      <th>0</th>\n",
       "      <td>11</td>\n",
       "      <td>0</td>\n",
       "      <td>23</td>\n",
       "      <td>8</td>\n",
       "      <td>12</td>\n",
       "      <td>800</td>\n",
       "      <td>1.603808</td>\n",
       "    </tr>\n",
       "    <tr>\n",
       "      <th>1</th>\n",
       "      <td>11</td>\n",
       "      <td>1</td>\n",
       "      <td>23</td>\n",
       "      <td>2</td>\n",
       "      <td>12</td>\n",
       "      <td>1150</td>\n",
       "      <td>1.739790</td>\n",
       "    </tr>\n",
       "    <tr>\n",
       "      <th>2</th>\n",
       "      <td>11</td>\n",
       "      <td>1</td>\n",
       "      <td>35</td>\n",
       "      <td>8</td>\n",
       "      <td>15</td>\n",
       "      <td>880</td>\n",
       "      <td>1.760444</td>\n",
       "    </tr>\n",
       "    <tr>\n",
       "      <th>3</th>\n",
       "      <td>11</td>\n",
       "      <td>0</td>\n",
       "      <td>46</td>\n",
       "      <td>2</td>\n",
       "      <td>6</td>\n",
       "      <td>3500</td>\n",
       "      <td>1.783158</td>\n",
       "    </tr>\n",
       "    <tr>\n",
       "      <th>4</th>\n",
       "      <td>11</td>\n",
       "      <td>1</td>\n",
       "      <td>47</td>\n",
       "      <td>8</td>\n",
       "      <td>9</td>\n",
       "      <td>150</td>\n",
       "      <td>1.690631</td>\n",
       "    </tr>\n",
       "  </tbody>\n",
       "</table>\n",
       "</div>"
      ],
      "text/plain": [
       "   UF  Sexo  Idade  Cor  Anos de Estudo  Renda    Altura\n",
       "0  11     0     23    8              12    800  1.603808\n",
       "1  11     1     23    2              12   1150  1.739790\n",
       "2  11     1     35    8              15    880  1.760444\n",
       "3  11     0     46    2               6   3500  1.783158\n",
       "4  11     1     47    8               9    150  1.690631"
      ]
     },
     "execution_count": 79,
     "metadata": {},
     "output_type": "execute_result"
    }
   ],
   "source": [
    "dt.head()"
   ]
  },
  {
   "cell_type": "markdown",
   "id": "7aa9b8e7",
   "metadata": {},
   "source": [
    "As variáveis UF, Sexo e Cor são classificadas como variáveis nominais."
   ]
  },
  {
   "cell_type": "code",
   "execution_count": 80,
   "id": "22b057ca",
   "metadata": {},
   "outputs": [
    {
     "data": {
      "text/plain": [
       "array([11, 12, 13, 14, 15, 16, 17, 21, 22, 23, 24, 25, 26, 27, 28, 29, 31,\n",
       "       32, 33, 35, 41, 42, 43, 50, 51, 52, 53], dtype=int64)"
      ]
     },
     "execution_count": 80,
     "metadata": {},
     "output_type": "execute_result"
    }
   ],
   "source": [
    "dt.UF.unique()"
   ]
  },
  {
   "cell_type": "code",
   "execution_count": 81,
   "id": "bc1888fe",
   "metadata": {},
   "outputs": [
    {
     "data": {
      "text/plain": [
       "array([0, 1], dtype=int64)"
      ]
     },
     "execution_count": 81,
     "metadata": {},
     "output_type": "execute_result"
    }
   ],
   "source": [
    "dt.Sexo.unique()"
   ]
  },
  {
   "cell_type": "code",
   "execution_count": 82,
   "id": "5a566eb4",
   "metadata": {},
   "outputs": [
    {
     "data": {
      "text/plain": [
       "array([8, 2, 4, 6, 0], dtype=int64)"
      ]
     },
     "execution_count": 82,
     "metadata": {},
     "output_type": "execute_result"
    }
   ],
   "source": [
    "dt.Cor.unique()"
   ]
  },
  {
   "cell_type": "markdown",
   "id": "1f7d64bb",
   "metadata": {},
   "source": [
    "# Variáveis quantitativas\n",
    "\n",
    "São aquelas variáveis expressas por meio de números"
   ]
  },
  {
   "cell_type": "markdown",
   "id": "49933b57",
   "metadata": {},
   "source": [
    "## Variáveis quantitativas discretas\n",
    "\n",
    "Quando resultam num conjunto finito(enumerável) de valores possíveis (números inteiros). Qnt de livros de uma biblioteca, qnt de carros em um estatcionamento são exemplos de variáveis quantitativas discretas\n"
   ]
  },
  {
   "cell_type": "code",
   "execution_count": 83,
   "id": "bff2a5aa",
   "metadata": {},
   "outputs": [
    {
     "data": {
      "text/plain": [
       "array([23, 35, 46, 47, 34, 57, 60, 50, 26, 49, 52, 38, 45, 43, 53, 62, 69,\n",
       "       41, 25, 33, 44, 65, 32, 30, 64, 31, 63, 40, 28, 37, 39, 36, 73, 56,\n",
       "       27, 42, 51, 29, 24, 55, 67, 66, 61, 54, 48, 80, 79, 71, 59, 19, 22,\n",
       "       77, 58, 17, 72, 70, 18, 21, 20, 68, 74, 76, 75, 84, 85, 78, 15, 82,\n",
       "       95, 13, 83, 81, 87, 88, 16, 91, 92, 97, 89, 90, 86, 94, 14, 99],\n",
       "      dtype=int64)"
      ]
     },
     "execution_count": 83,
     "metadata": {},
     "output_type": "execute_result"
    }
   ],
   "source": [
    "dt.Idade.unique()"
   ]
  },
  {
   "cell_type": "code",
   "execution_count": 84,
   "id": "e63dbaa1",
   "metadata": {},
   "outputs": [
    {
     "data": {
      "text/plain": [
       "array([  800,  1150,   880, ..., 36000,  1329,  5260], dtype=int64)"
      ]
     },
     "execution_count": 84,
     "metadata": {},
     "output_type": "execute_result"
    }
   ],
   "source": [
    "dt.Renda.unique()"
   ]
  },
  {
   "cell_type": "code",
   "execution_count": 85,
   "id": "07bd1744",
   "metadata": {},
   "outputs": [
    {
     "name": "stdout",
     "output_type": "stream",
     "text": [
      "Menor idade:  13\n",
      "Maior idade:  99\n"
     ]
    }
   ],
   "source": [
    "print(\"Menor idade: \", dt.Idade.min())\n",
    "print(\"Maior idade: \", dt.Idade.max())"
   ]
  },
  {
   "cell_type": "code",
   "execution_count": 86,
   "id": "0ad42637",
   "metadata": {},
   "outputs": [
    {
     "name": "stdout",
     "output_type": "stream",
     "text": [
      "Menor renda:  0\n",
      "Maior renda:  200000\n"
     ]
    }
   ],
   "source": [
    "print(\"Menor renda: \", dt.Renda.min())\n",
    "print(\"Maior renda: \", dt.Renda.max())"
   ]
  },
  {
   "cell_type": "markdown",
   "id": "c9717861",
   "metadata": {},
   "source": [
    "## Variável quantitativa contínua\n",
    "\n",
    "Quando resulta de um número infinito de valores possíveis, resultando de uma escala contínua, de modo que não haja lacunas ou interrupções entre os valores. Altura, peso, largura, comprimento, temperatura, horas e idade são exemplos de variáveis contínuas"
   ]
  },
  {
   "cell_type": "code",
   "execution_count": 87,
   "id": "8a5ea030",
   "metadata": {},
   "outputs": [
    {
     "data": {
      "text/html": [
       "<div>\n",
       "<style scoped>\n",
       "    .dataframe tbody tr th:only-of-type {\n",
       "        vertical-align: middle;\n",
       "    }\n",
       "\n",
       "    .dataframe tbody tr th {\n",
       "        vertical-align: top;\n",
       "    }\n",
       "\n",
       "    .dataframe thead th {\n",
       "        text-align: right;\n",
       "    }\n",
       "</style>\n",
       "<table border=\"1\" class=\"dataframe\">\n",
       "  <thead>\n",
       "    <tr style=\"text-align: right;\">\n",
       "      <th></th>\n",
       "      <th>UF</th>\n",
       "      <th>Sexo</th>\n",
       "      <th>Idade</th>\n",
       "      <th>Cor</th>\n",
       "      <th>Anos de Estudo</th>\n",
       "      <th>Renda</th>\n",
       "      <th>Altura</th>\n",
       "    </tr>\n",
       "  </thead>\n",
       "  <tbody>\n",
       "    <tr>\n",
       "      <th>0</th>\n",
       "      <td>11</td>\n",
       "      <td>0</td>\n",
       "      <td>23</td>\n",
       "      <td>8</td>\n",
       "      <td>12</td>\n",
       "      <td>800</td>\n",
       "      <td>1.603808</td>\n",
       "    </tr>\n",
       "    <tr>\n",
       "      <th>1</th>\n",
       "      <td>11</td>\n",
       "      <td>1</td>\n",
       "      <td>23</td>\n",
       "      <td>2</td>\n",
       "      <td>12</td>\n",
       "      <td>1150</td>\n",
       "      <td>1.739790</td>\n",
       "    </tr>\n",
       "    <tr>\n",
       "      <th>2</th>\n",
       "      <td>11</td>\n",
       "      <td>1</td>\n",
       "      <td>35</td>\n",
       "      <td>8</td>\n",
       "      <td>15</td>\n",
       "      <td>880</td>\n",
       "      <td>1.760444</td>\n",
       "    </tr>\n",
       "    <tr>\n",
       "      <th>3</th>\n",
       "      <td>11</td>\n",
       "      <td>0</td>\n",
       "      <td>46</td>\n",
       "      <td>2</td>\n",
       "      <td>6</td>\n",
       "      <td>3500</td>\n",
       "      <td>1.783158</td>\n",
       "    </tr>\n",
       "    <tr>\n",
       "      <th>4</th>\n",
       "      <td>11</td>\n",
       "      <td>1</td>\n",
       "      <td>47</td>\n",
       "      <td>8</td>\n",
       "      <td>9</td>\n",
       "      <td>150</td>\n",
       "      <td>1.690631</td>\n",
       "    </tr>\n",
       "  </tbody>\n",
       "</table>\n",
       "</div>"
      ],
      "text/plain": [
       "   UF  Sexo  Idade  Cor  Anos de Estudo  Renda    Altura\n",
       "0  11     0     23    8              12    800  1.603808\n",
       "1  11     1     23    2              12   1150  1.739790\n",
       "2  11     1     35    8              15    880  1.760444\n",
       "3  11     0     46    2               6   3500  1.783158\n",
       "4  11     1     47    8               9    150  1.690631"
      ]
     },
     "execution_count": 87,
     "metadata": {},
     "output_type": "execute_result"
    }
   ],
   "source": [
    "dt.head()"
   ]
  },
  {
   "cell_type": "code",
   "execution_count": 88,
   "id": "b129746b",
   "metadata": {},
   "outputs": [
    {
     "data": {
      "text/plain": [
       "array([1.60380762, 1.73978983, 1.76044382, ..., 1.83058738, 1.72634426,\n",
       "       1.65830485])"
      ]
     },
     "execution_count": 88,
     "metadata": {},
     "output_type": "execute_result"
    }
   ],
   "source": [
    "dt.Altura.unique()"
   ]
  },
  {
   "cell_type": "code",
   "execution_count": 89,
   "id": "9f1c916a",
   "metadata": {},
   "outputs": [
    {
     "name": "stdout",
     "output_type": "stream",
     "text": [
      "Menor altura:  1.339244614 , Maior Altura:  2.028496765\n"
     ]
    }
   ],
   "source": [
    "print(\"Menor altura: \", dt.Altura.min(), \", Maior Altura: \", dt.Altura.max())"
   ]
  },
  {
   "cell_type": "markdown",
   "id": "65057b59",
   "metadata": {},
   "source": [
    "# 2) - DISTRIBUIÇÃO DE FREQUÊNCIAS"
   ]
  },
  {
   "cell_type": "markdown",
   "id": "ebb2568f",
   "metadata": {},
   "source": [
    "## Analisando uma variável qualitativa"
   ]
  },
  {
   "cell_type": "code",
   "execution_count": 90,
   "id": "180522ec",
   "metadata": {},
   "outputs": [
    {
     "data": {
      "text/plain": [
       "Sexo\n",
       "0    53250\n",
       "1    23590\n",
       "Name: count, dtype: int64"
      ]
     },
     "execution_count": 90,
     "metadata": {},
     "output_type": "execute_result"
    }
   ],
   "source": [
    "frequencia = dt.Sexo.value_counts()\n",
    "frequencia"
   ]
  },
  {
   "cell_type": "markdown",
   "id": "1bd27dd6",
   "metadata": {},
   "source": [
    "0 - Masculino; 1 - Feminino"
   ]
  },
  {
   "cell_type": "code",
   "execution_count": 91,
   "id": "76401c7b",
   "metadata": {},
   "outputs": [
    {
     "data": {
      "text/plain": [
       "Sexo\n",
       "0    0.692998\n",
       "1    0.307002\n",
       "Name: proportion, dtype: float64"
      ]
     },
     "execution_count": 91,
     "metadata": {},
     "output_type": "execute_result"
    }
   ],
   "source": [
    "#O método normalize vai retornar a porcetagem que cada variável possui dentro da população\n",
    "#normalize = % de representatividade dos dados\n",
    "percentual = dt.Sexo.value_counts(normalize = True) #* 100\n",
    "percentual"
   ]
  },
  {
   "cell_type": "markdown",
   "id": "4b1edccc",
   "metadata": {},
   "source": [
    "### Criando um dataframe com a estatística dos dados"
   ]
  },
  {
   "cell_type": "code",
   "execution_count": 92,
   "id": "75ebc0e0",
   "metadata": {},
   "outputs": [
    {
     "data": {
      "text/html": [
       "<div>\n",
       "<style scoped>\n",
       "    .dataframe tbody tr th:only-of-type {\n",
       "        vertical-align: middle;\n",
       "    }\n",
       "\n",
       "    .dataframe tbody tr th {\n",
       "        vertical-align: top;\n",
       "    }\n",
       "\n",
       "    .dataframe thead th {\n",
       "        text-align: right;\n",
       "    }\n",
       "</style>\n",
       "<table border=\"1\" class=\"dataframe\">\n",
       "  <thead>\n",
       "    <tr style=\"text-align: right;\">\n",
       "      <th></th>\n",
       "      <th>Frequencia</th>\n",
       "      <th>Percentual</th>\n",
       "    </tr>\n",
       "    <tr>\n",
       "      <th>Sexo</th>\n",
       "      <th></th>\n",
       "      <th></th>\n",
       "    </tr>\n",
       "  </thead>\n",
       "  <tbody>\n",
       "    <tr>\n",
       "      <th>0</th>\n",
       "      <td>53250</td>\n",
       "      <td>0.692998</td>\n",
       "    </tr>\n",
       "    <tr>\n",
       "      <th>1</th>\n",
       "      <td>23590</td>\n",
       "      <td>0.307002</td>\n",
       "    </tr>\n",
       "  </tbody>\n",
       "</table>\n",
       "</div>"
      ],
      "text/plain": [
       "      Frequencia  Percentual\n",
       "Sexo                        \n",
       "0          53250    0.692998\n",
       "1          23590    0.307002"
      ]
     },
     "execution_count": 92,
     "metadata": {},
     "output_type": "execute_result"
    }
   ],
   "source": [
    "dist_freq_sexo = pd.DataFrame({'Frequencia': frequencia, 'Percentual': percentual})\n",
    "dist_freq_sexo"
   ]
  },
  {
   "cell_type": "markdown",
   "id": "a608376b",
   "metadata": {},
   "source": [
    "### Tratando o dataframe"
   ]
  },
  {
   "cell_type": "code",
   "execution_count": 93,
   "id": "4a81e2f8",
   "metadata": {},
   "outputs": [
    {
     "data": {
      "text/html": [
       "<div>\n",
       "<style scoped>\n",
       "    .dataframe tbody tr th:only-of-type {\n",
       "        vertical-align: middle;\n",
       "    }\n",
       "\n",
       "    .dataframe tbody tr th {\n",
       "        vertical-align: top;\n",
       "    }\n",
       "\n",
       "    .dataframe thead th {\n",
       "        text-align: right;\n",
       "    }\n",
       "</style>\n",
       "<table border=\"1\" class=\"dataframe\">\n",
       "  <thead>\n",
       "    <tr style=\"text-align: right;\">\n",
       "      <th></th>\n",
       "      <th>Frequencia</th>\n",
       "      <th>Percentual</th>\n",
       "    </tr>\n",
       "    <tr>\n",
       "      <th>Sexo</th>\n",
       "      <th></th>\n",
       "      <th></th>\n",
       "    </tr>\n",
       "  </thead>\n",
       "  <tbody>\n",
       "    <tr>\n",
       "      <th>MASCULINO</th>\n",
       "      <td>53250</td>\n",
       "      <td>0.692998</td>\n",
       "    </tr>\n",
       "    <tr>\n",
       "      <th>FEMININO</th>\n",
       "      <td>23590</td>\n",
       "      <td>0.307002</td>\n",
       "    </tr>\n",
       "  </tbody>\n",
       "</table>\n",
       "</div>"
      ],
      "text/plain": [
       "           Frequencia  Percentual\n",
       "Sexo                             \n",
       "MASCULINO       53250    0.692998\n",
       "FEMININO        23590    0.307002"
      ]
     },
     "execution_count": 93,
     "metadata": {},
     "output_type": "execute_result"
    }
   ],
   "source": [
    "dist_freq_sexo.rename(index = {0: 'MASCULINO', 1: 'FEMININO'}, inplace = True)\n",
    "dist_freq_sexo"
   ]
  },
  {
   "cell_type": "code",
   "execution_count": 94,
   "id": "e8701623",
   "metadata": {},
   "outputs": [
    {
     "data": {
      "text/html": [
       "<div>\n",
       "<style scoped>\n",
       "    .dataframe tbody tr th:only-of-type {\n",
       "        vertical-align: middle;\n",
       "    }\n",
       "\n",
       "    .dataframe tbody tr th {\n",
       "        vertical-align: top;\n",
       "    }\n",
       "\n",
       "    .dataframe thead th {\n",
       "        text-align: right;\n",
       "    }\n",
       "</style>\n",
       "<table border=\"1\" class=\"dataframe\">\n",
       "  <thead>\n",
       "    <tr style=\"text-align: right;\">\n",
       "      <th>Sexo</th>\n",
       "      <th>Frequencia</th>\n",
       "      <th>Percentual</th>\n",
       "    </tr>\n",
       "    <tr>\n",
       "      <th>Sexo</th>\n",
       "      <th></th>\n",
       "      <th></th>\n",
       "    </tr>\n",
       "  </thead>\n",
       "  <tbody>\n",
       "    <tr>\n",
       "      <th>MASCULINO</th>\n",
       "      <td>53250</td>\n",
       "      <td>0.692998</td>\n",
       "    </tr>\n",
       "    <tr>\n",
       "      <th>FEMININO</th>\n",
       "      <td>23590</td>\n",
       "      <td>0.307002</td>\n",
       "    </tr>\n",
       "  </tbody>\n",
       "</table>\n",
       "</div>"
      ],
      "text/plain": [
       "Sexo       Frequencia  Percentual\n",
       "Sexo                             \n",
       "MASCULINO       53250    0.692998\n",
       "FEMININO        23590    0.307002"
      ]
     },
     "execution_count": 94,
     "metadata": {},
     "output_type": "execute_result"
    }
   ],
   "source": [
    "dist_freq_sexo.rename_axis('Sexo', axis = 'columns', inplace = True)\n",
    "dist_freq_sexo"
   ]
  },
  {
   "cell_type": "markdown",
   "id": "e199c39e",
   "metadata": {},
   "source": [
    "# 2.2) - DISTRIBUIÇÃO DE FREQUÊNCIAS QUANTITATIVAS\n",
    "\n",
    "Vamos primeiro categorizar a variável quantitativa (Renda) para então ordena-las\n",
    "\n",
    "A base de dados é de 2015, quando o salário mínimo (SM) era de R$788,00"
   ]
  },
  {
   "cell_type": "code",
   "execution_count": 95,
   "id": "3a3ac94a",
   "metadata": {},
   "outputs": [
    {
     "name": "stdout",
     "output_type": "stream",
     "text": [
      "Menor renda:  0\n",
      "Maior renda:  200000\n",
      "Média:  2000.38\n",
      "Mediana:  1200.0\n"
     ]
    }
   ],
   "source": [
    "print(\"Menor renda: \", dt.Renda.min())\n",
    "print(\"Maior renda: \", dt.Renda.max())\n",
    "print(\"Média: \", round(dt.Renda.mean(), 2))\n",
    "print(\"Mediana: \", dt.Renda.median())"
   ]
  },
  {
   "cell_type": "markdown",
   "id": "04727f53",
   "metadata": {},
   "source": [
    "Separar os valores por classe"
   ]
  },
  {
   "cell_type": "code",
   "execution_count": 96,
   "id": "8547abda",
   "metadata": {},
   "outputs": [],
   "source": [
    "classes_quantitativa = [0, 1576, 3152, 7880, 15760, 20000]"
   ]
  },
  {
   "cell_type": "markdown",
   "id": "46062451",
   "metadata": {},
   "source": [
    "Separar as classes(de renda) em A, B, C, D e E"
   ]
  },
  {
   "cell_type": "code",
   "execution_count": 97,
   "id": "078f1531",
   "metadata": {},
   "outputs": [],
   "source": [
    "classes_qualitativas = ['E', 'D', 'C', 'B', 'A']"
   ]
  },
  {
   "cell_type": "markdown",
   "id": "55762142",
   "metadata": {},
   "source": [
    "Utilizaremos o método .cut() do Pandas para realizar as segmentações, sem precisar fazer na \"marra\". Retorna pandas.Series"
   ]
  },
  {
   "cell_type": "code",
   "execution_count": 98,
   "id": "fc82a213",
   "metadata": {},
   "outputs": [
    {
     "data": {
      "text/plain": [
       "0        E\n",
       "1        E\n",
       "2        E\n",
       "3        C\n",
       "4        E\n",
       "        ..\n",
       "76835    E\n",
       "76836    E\n",
       "76837    E\n",
       "76838    E\n",
       "76839    E\n",
       "Name: Renda, Length: 76840, dtype: category\n",
       "Categories (5, object): ['E' < 'D' < 'C' < 'B' < 'A']"
      ]
     },
     "execution_count": 98,
     "metadata": {},
     "output_type": "execute_result"
    }
   ],
   "source": [
    "dt_classes = pd.cut(x = dt.Renda, \n",
    "                    bins = classes_quantitativa,\n",
    "                    labels = classes_qualitativas, \n",
    "                    include_lowest = True)\n",
    "\n",
    "dt_classes"
   ]
  },
  {
   "cell_type": "markdown",
   "id": "9c3d4a56",
   "metadata": {},
   "source": [
    "Agrupando as variáveis categóricas em grupos"
   ]
  },
  {
   "cell_type": "code",
   "execution_count": 99,
   "id": "e703b77b",
   "metadata": {},
   "outputs": [
    {
     "data": {
      "text/plain": [
       "Renda\n",
       "E    49755\n",
       "D    16700\n",
       "C     7599\n",
       "B     2178\n",
       "A      349\n",
       "Name: count, dtype: int64"
      ]
     },
     "execution_count": 99,
     "metadata": {},
     "output_type": "execute_result"
    }
   ],
   "source": [
    "dt_classes_freq = pd.value_counts(pd.cut(x = dt.Renda, \n",
    "                    bins = classes_quantitativa,\n",
    "                    labels = classes_qualitativas, \n",
    "                    include_lowest = True))\n",
    "\n",
    "dt_classes_freq"
   ]
  },
  {
   "cell_type": "code",
   "execution_count": 100,
   "id": "9d26d057",
   "metadata": {},
   "outputs": [
    {
     "data": {
      "text/plain": [
       "Renda\n",
       "E    0.649704\n",
       "D    0.218070\n",
       "C    0.099228\n",
       "B    0.028440\n",
       "A    0.004557\n",
       "Name: proportion, dtype: float64"
      ]
     },
     "execution_count": 100,
     "metadata": {},
     "output_type": "execute_result"
    }
   ],
   "source": [
    "dt_classes_percent = pd.value_counts(pd.cut(x = dt.Renda,\n",
    "                                            bins = classes_quantitativa,\n",
    "                                            labels = classes_qualitativas,\n",
    "                                            include_lowest = True), normalize = True)\n",
    "\n",
    "dt_classes_percent"
   ]
  },
  {
   "cell_type": "markdown",
   "id": "f48292cf",
   "metadata": {},
   "source": [
    "## Alocando os resultados num dataframe"
   ]
  },
  {
   "cell_type": "code",
   "execution_count": 101,
   "id": "0d2061cb",
   "metadata": {},
   "outputs": [
    {
     "data": {
      "text/html": [
       "<div>\n",
       "<style scoped>\n",
       "    .dataframe tbody tr th:only-of-type {\n",
       "        vertical-align: middle;\n",
       "    }\n",
       "\n",
       "    .dataframe tbody tr th {\n",
       "        vertical-align: top;\n",
       "    }\n",
       "\n",
       "    .dataframe thead th {\n",
       "        text-align: right;\n",
       "    }\n",
       "</style>\n",
       "<table border=\"1\" class=\"dataframe\">\n",
       "  <thead>\n",
       "    <tr style=\"text-align: right;\">\n",
       "      <th></th>\n",
       "      <th>Frequencia</th>\n",
       "      <th>Percentual</th>\n",
       "    </tr>\n",
       "    <tr>\n",
       "      <th>Renda</th>\n",
       "      <th></th>\n",
       "      <th></th>\n",
       "    </tr>\n",
       "  </thead>\n",
       "  <tbody>\n",
       "    <tr>\n",
       "      <th>E</th>\n",
       "      <td>49755</td>\n",
       "      <td>0.649704</td>\n",
       "    </tr>\n",
       "    <tr>\n",
       "      <th>D</th>\n",
       "      <td>16700</td>\n",
       "      <td>0.218070</td>\n",
       "    </tr>\n",
       "    <tr>\n",
       "      <th>C</th>\n",
       "      <td>7599</td>\n",
       "      <td>0.099228</td>\n",
       "    </tr>\n",
       "    <tr>\n",
       "      <th>B</th>\n",
       "      <td>2178</td>\n",
       "      <td>0.028440</td>\n",
       "    </tr>\n",
       "    <tr>\n",
       "      <th>A</th>\n",
       "      <td>349</td>\n",
       "      <td>0.004557</td>\n",
       "    </tr>\n",
       "  </tbody>\n",
       "</table>\n",
       "</div>"
      ],
      "text/plain": [
       "       Frequencia  Percentual\n",
       "Renda                        \n",
       "E           49755    0.649704\n",
       "D           16700    0.218070\n",
       "C            7599    0.099228\n",
       "B            2178    0.028440\n",
       "A             349    0.004557"
      ]
     },
     "execution_count": 101,
     "metadata": {},
     "output_type": "execute_result"
    }
   ],
   "source": [
    "dist_freq_quantitativa_renda = pd.DataFrame({'Frequencia': dt_classes_freq, 'Percentual': dt_classes_percent})\n",
    "dist_freq_quantitativa_renda"
   ]
  },
  {
   "cell_type": "code",
   "execution_count": 102,
   "id": "17fc0833",
   "metadata": {},
   "outputs": [
    {
     "data": {
      "text/html": [
       "<div>\n",
       "<style scoped>\n",
       "    .dataframe tbody tr th:only-of-type {\n",
       "        vertical-align: middle;\n",
       "    }\n",
       "\n",
       "    .dataframe tbody tr th {\n",
       "        vertical-align: top;\n",
       "    }\n",
       "\n",
       "    .dataframe thead th {\n",
       "        text-align: right;\n",
       "    }\n",
       "</style>\n",
       "<table border=\"1\" class=\"dataframe\">\n",
       "  <thead>\n",
       "    <tr style=\"text-align: right;\">\n",
       "      <th></th>\n",
       "      <th>Frequencia</th>\n",
       "      <th>Percentual</th>\n",
       "    </tr>\n",
       "    <tr>\n",
       "      <th>Renda</th>\n",
       "      <th></th>\n",
       "      <th></th>\n",
       "    </tr>\n",
       "  </thead>\n",
       "  <tbody>\n",
       "    <tr>\n",
       "      <th>A</th>\n",
       "      <td>349</td>\n",
       "      <td>0.004557</td>\n",
       "    </tr>\n",
       "    <tr>\n",
       "      <th>B</th>\n",
       "      <td>2178</td>\n",
       "      <td>0.028440</td>\n",
       "    </tr>\n",
       "    <tr>\n",
       "      <th>C</th>\n",
       "      <td>7599</td>\n",
       "      <td>0.099228</td>\n",
       "    </tr>\n",
       "    <tr>\n",
       "      <th>D</th>\n",
       "      <td>16700</td>\n",
       "      <td>0.218070</td>\n",
       "    </tr>\n",
       "    <tr>\n",
       "      <th>E</th>\n",
       "      <td>49755</td>\n",
       "      <td>0.649704</td>\n",
       "    </tr>\n",
       "  </tbody>\n",
       "</table>\n",
       "</div>"
      ],
      "text/plain": [
       "       Frequencia  Percentual\n",
       "Renda                        \n",
       "A             349    0.004557\n",
       "B            2178    0.028440\n",
       "C            7599    0.099228\n",
       "D           16700    0.218070\n",
       "E           49755    0.649704"
      ]
     },
     "execution_count": 102,
     "metadata": {},
     "output_type": "execute_result"
    }
   ],
   "source": [
    "dist_freq_quantitativa_renda.sort_index(ascending = False)"
   ]
  },
  {
   "cell_type": "markdown",
   "id": "da17f1d5",
   "metadata": {},
   "source": [
    "# 2.2.1 - Separação de classes utilizando a Regra de Sturges"
   ]
  },
  {
   "cell_type": "markdown",
   "id": "a7da16f0",
   "metadata": {},
   "source": [
    "<img src=\"equacao_sturges.png\" width=\"300\" height=\"300\" />"
   ]
  },
  {
   "cell_type": "markdown",
   "id": "745a4817",
   "metadata": {},
   "source": [
    "A fórmula de Sturges é uma função linear de escala logarítmica, utilizada para calcular o provável número de classe dentro de uma população. A amplitude das classes são iguais."
   ]
  },
  {
   "cell_type": "code",
   "execution_count": 103,
   "id": "e0afe806",
   "metadata": {},
   "outputs": [],
   "source": [
    "import numpy as np"
   ]
  },
  {
   "cell_type": "markdown",
   "id": "6382e74e",
   "metadata": {},
   "source": [
    "Utilizando o tamanho da amostra, conseguimos separar o número de classes"
   ]
  },
  {
   "cell_type": "code",
   "execution_count": 104,
   "id": "d2de670b",
   "metadata": {},
   "outputs": [
    {
     "data": {
      "text/plain": [
       "76840"
      ]
     },
     "execution_count": 104,
     "metadata": {},
     "output_type": "execute_result"
    }
   ],
   "source": [
    "populacao = dt.shape[0]\n",
    "populacao"
   ]
  },
  {
   "cell_type": "code",
   "execution_count": 105,
   "id": "971146fe",
   "metadata": {},
   "outputs": [],
   "source": [
    "def regra_sturges(n):\n",
    "    k = 1 + (10/3) * np.log10(n)\n",
    "    \n",
    "    return K"
   ]
  },
  {
   "cell_type": "code",
   "execution_count": 106,
   "id": "8a94ba87",
   "metadata": {},
   "outputs": [],
   "source": [
    "k = 1 + (10/3) * np.log10(populacao)"
   ]
  },
  {
   "cell_type": "code",
   "execution_count": 107,
   "id": "eb896c50",
   "metadata": {},
   "outputs": [
    {
     "data": {
      "text/plain": [
       "17"
      ]
     },
     "execution_count": 107,
     "metadata": {},
     "output_type": "execute_result"
    }
   ],
   "source": [
    "k = int(k)\n",
    "k"
   ]
  },
  {
   "cell_type": "markdown",
   "id": "b3ee32df",
   "metadata": {},
   "source": [
    "Podemos ter até 17 classes dentro do espaço amostral do dataframe"
   ]
  },
  {
   "cell_type": "markdown",
   "id": "4d70a547",
   "metadata": {},
   "source": [
    "### Criando o dataframe para receber as classes"
   ]
  },
  {
   "cell_type": "code",
   "execution_count": 108,
   "id": "d86c91fa",
   "metadata": {},
   "outputs": [
    {
     "data": {
      "text/plain": [
       "Renda\n",
       "(-200.001, 11764.706]       75594\n",
       "(11764.706, 23529.412]       1022\n",
       "(23529.412, 35294.118]        169\n",
       "(35294.118, 47058.824]         19\n",
       "(47058.824, 58823.529]         16\n",
       "(58823.529, 70588.235]          5\n",
       "(70588.235, 82352.941]          4\n",
       "(82352.941, 94117.647]          1\n",
       "(94117.647, 105882.353]         6\n",
       "(105882.353, 117647.059]        0\n",
       "(117647.059, 129411.765]        1\n",
       "(129411.765, 141176.471]        0\n",
       "(141176.471, 152941.176]        0\n",
       "(152941.176, 164705.882]        0\n",
       "(164705.882, 176470.588]        0\n",
       "(176470.588, 188235.294]        0\n",
       "(188235.294, 200000.0]          3\n",
       "Name: count, dtype: int64"
      ]
     },
     "execution_count": 108,
     "metadata": {},
     "output_type": "execute_result"
    }
   ],
   "source": [
    "frequencia_sturges = pd.value_counts(pd.cut(x = dt.Renda,\n",
    "                                     bins = k,\n",
    "                                     include_lowest = True),\n",
    "                                     sort = False)\n",
    "frequencia_sturges"
   ]
  },
  {
   "cell_type": "code",
   "execution_count": 109,
   "id": "abab242d",
   "metadata": {},
   "outputs": [
    {
     "data": {
      "text/plain": [
       "Renda\n",
       "(-200.001, 11764.706]       0.983784\n",
       "(11764.706, 23529.412]      0.013300\n",
       "(23529.412, 35294.118]      0.002199\n",
       "(35294.118, 47058.824]      0.000247\n",
       "(47058.824, 58823.529]      0.000208\n",
       "(58823.529, 70588.235]      0.000065\n",
       "(70588.235, 82352.941]      0.000052\n",
       "(82352.941, 94117.647]      0.000013\n",
       "(94117.647, 105882.353]     0.000078\n",
       "(105882.353, 117647.059]    0.000000\n",
       "(117647.059, 129411.765]    0.000013\n",
       "(129411.765, 141176.471]    0.000000\n",
       "(141176.471, 152941.176]    0.000000\n",
       "(152941.176, 164705.882]    0.000000\n",
       "(164705.882, 176470.588]    0.000000\n",
       "(176470.588, 188235.294]    0.000000\n",
       "(188235.294, 200000.0]      0.000039\n",
       "Name: proportion, dtype: float64"
      ]
     },
     "execution_count": 109,
     "metadata": {},
     "output_type": "execute_result"
    }
   ],
   "source": [
    "percentual_sturges = pd.value_counts(pd.cut(x = dt.Renda,\n",
    "                                            bins = k,\n",
    "                                            include_lowest = True),\n",
    "                                     sort = False,\n",
    "                                     normalize = True)\n",
    "percentual_sturges"
   ]
  },
  {
   "cell_type": "code",
   "execution_count": 110,
   "id": "b92e9fc5",
   "metadata": {},
   "outputs": [
    {
     "data": {
      "text/html": [
       "<div>\n",
       "<style scoped>\n",
       "    .dataframe tbody tr th:only-of-type {\n",
       "        vertical-align: middle;\n",
       "    }\n",
       "\n",
       "    .dataframe tbody tr th {\n",
       "        vertical-align: top;\n",
       "    }\n",
       "\n",
       "    .dataframe thead th {\n",
       "        text-align: right;\n",
       "    }\n",
       "</style>\n",
       "<table border=\"1\" class=\"dataframe\">\n",
       "  <thead>\n",
       "    <tr style=\"text-align: right;\">\n",
       "      <th></th>\n",
       "      <th>Percentual</th>\n",
       "      <th>Porcentagem</th>\n",
       "    </tr>\n",
       "    <tr>\n",
       "      <th>Renda</th>\n",
       "      <th></th>\n",
       "      <th></th>\n",
       "    </tr>\n",
       "  </thead>\n",
       "  <tbody>\n",
       "    <tr>\n",
       "      <th>(-200.001, 11764.706]</th>\n",
       "      <td>75594</td>\n",
       "      <td>0.983784</td>\n",
       "    </tr>\n",
       "    <tr>\n",
       "      <th>(11764.706, 23529.412]</th>\n",
       "      <td>1022</td>\n",
       "      <td>0.013300</td>\n",
       "    </tr>\n",
       "    <tr>\n",
       "      <th>(23529.412, 35294.118]</th>\n",
       "      <td>169</td>\n",
       "      <td>0.002199</td>\n",
       "    </tr>\n",
       "    <tr>\n",
       "      <th>(35294.118, 47058.824]</th>\n",
       "      <td>19</td>\n",
       "      <td>0.000247</td>\n",
       "    </tr>\n",
       "    <tr>\n",
       "      <th>(47058.824, 58823.529]</th>\n",
       "      <td>16</td>\n",
       "      <td>0.000208</td>\n",
       "    </tr>\n",
       "    <tr>\n",
       "      <th>(58823.529, 70588.235]</th>\n",
       "      <td>5</td>\n",
       "      <td>0.000065</td>\n",
       "    </tr>\n",
       "    <tr>\n",
       "      <th>(70588.235, 82352.941]</th>\n",
       "      <td>4</td>\n",
       "      <td>0.000052</td>\n",
       "    </tr>\n",
       "    <tr>\n",
       "      <th>(82352.941, 94117.647]</th>\n",
       "      <td>1</td>\n",
       "      <td>0.000013</td>\n",
       "    </tr>\n",
       "    <tr>\n",
       "      <th>(94117.647, 105882.353]</th>\n",
       "      <td>6</td>\n",
       "      <td>0.000078</td>\n",
       "    </tr>\n",
       "    <tr>\n",
       "      <th>(105882.353, 117647.059]</th>\n",
       "      <td>0</td>\n",
       "      <td>0.000000</td>\n",
       "    </tr>\n",
       "    <tr>\n",
       "      <th>(117647.059, 129411.765]</th>\n",
       "      <td>1</td>\n",
       "      <td>0.000013</td>\n",
       "    </tr>\n",
       "    <tr>\n",
       "      <th>(129411.765, 141176.471]</th>\n",
       "      <td>0</td>\n",
       "      <td>0.000000</td>\n",
       "    </tr>\n",
       "    <tr>\n",
       "      <th>(141176.471, 152941.176]</th>\n",
       "      <td>0</td>\n",
       "      <td>0.000000</td>\n",
       "    </tr>\n",
       "    <tr>\n",
       "      <th>(152941.176, 164705.882]</th>\n",
       "      <td>0</td>\n",
       "      <td>0.000000</td>\n",
       "    </tr>\n",
       "    <tr>\n",
       "      <th>(164705.882, 176470.588]</th>\n",
       "      <td>0</td>\n",
       "      <td>0.000000</td>\n",
       "    </tr>\n",
       "    <tr>\n",
       "      <th>(176470.588, 188235.294]</th>\n",
       "      <td>0</td>\n",
       "      <td>0.000000</td>\n",
       "    </tr>\n",
       "    <tr>\n",
       "      <th>(188235.294, 200000.0]</th>\n",
       "      <td>3</td>\n",
       "      <td>0.000039</td>\n",
       "    </tr>\n",
       "  </tbody>\n",
       "</table>\n",
       "</div>"
      ],
      "text/plain": [
       "                          Percentual  Porcentagem\n",
       "Renda                                            \n",
       "(-200.001, 11764.706]          75594     0.983784\n",
       "(11764.706, 23529.412]          1022     0.013300\n",
       "(23529.412, 35294.118]           169     0.002199\n",
       "(35294.118, 47058.824]            19     0.000247\n",
       "(47058.824, 58823.529]            16     0.000208\n",
       "(58823.529, 70588.235]             5     0.000065\n",
       "(70588.235, 82352.941]             4     0.000052\n",
       "(82352.941, 94117.647]             1     0.000013\n",
       "(94117.647, 105882.353]            6     0.000078\n",
       "(105882.353, 117647.059]           0     0.000000\n",
       "(117647.059, 129411.765]           1     0.000013\n",
       "(129411.765, 141176.471]           0     0.000000\n",
       "(141176.471, 152941.176]           0     0.000000\n",
       "(152941.176, 164705.882]           0     0.000000\n",
       "(164705.882, 176470.588]           0     0.000000\n",
       "(176470.588, 188235.294]           0     0.000000\n",
       "(188235.294, 200000.0]             3     0.000039"
      ]
     },
     "execution_count": 110,
     "metadata": {},
     "output_type": "execute_result"
    }
   ],
   "source": [
    "dist_freq_sturges = pd.DataFrame({\"Percentual\": frequencia_sturges, \"Porcentagem\": percentual_sturges})\n",
    "dist_freq_sturges"
   ]
  },
  {
   "cell_type": "markdown",
   "id": "63913031",
   "metadata": {},
   "source": [
    "# 2.3) - Plotando gráficos"
   ]
  },
  {
   "cell_type": "code",
   "execution_count": 111,
   "id": "e260c672",
   "metadata": {},
   "outputs": [
    {
     "data": {
      "text/plain": [
       "Text(0.5, 0, 'Metros')"
      ]
     },
     "execution_count": 111,
     "metadata": {},
     "output_type": "execute_result"
    },
    {
     "data": {
      "image/png": "[encoded data removed]",
      "text/plain": [
       "<Figure size 1200x600 with 1 Axes>"
      ]
     },
     "metadata": {},
     "output_type": "display_data"
    }
   ],
   "source": [
    "graf_1 = sns.distplot(dt.Altura, kde = False)\n",
    "graf_1.figure.set_size_inches(12, 6)\n",
    "graf_1.set_title(\"Altura da população\")\n",
    "graf_1.set_xlabel(\"Metros\", fontsize=14)"
   ]
  },
  {
   "cell_type": "code",
   "execution_count": 112,
   "id": "e32c5a04",
   "metadata": {},
   "outputs": [
    {
     "data": {
      "text/plain": [
       "<Axes: >"
      ]
     },
     "execution_count": 112,
     "metadata": {},
     "output_type": "execute_result"
    },
    {
     "data": {
      "image/png": "[encoded data removed]",
      "text/plain": [
       "<Figure size 1200x600 with 1 Axes>"
      ]
     },
     "metadata": {},
     "output_type": "display_data"
    }
   ],
   "source": [
    "dt.Altura.hist(figsize=(12, 6))"
   ]
  },
  {
   "cell_type": "code",
   "execution_count": 113,
   "id": "d1659095",
   "metadata": {},
   "outputs": [
    {
     "data": {
      "text/plain": [
       "<Axes: xlabel='Renda'>"
      ]
     },
     "execution_count": 113,
     "metadata": {},
     "output_type": "execute_result"
    },
    {
     "data": {
      "image/png": "[encoded data removed]",
      "text/plain": [
       "<Figure size 640x480 with 1 Axes>"
      ]
     },
     "metadata": {},
     "output_type": "display_data"
    }
   ],
   "source": [
    "dist_freq_quantitativa_renda['Frequencia'].plot.bar()"
   ]
  },
  {
   "cell_type": "markdown",
   "id": "0070c466",
   "metadata": {},
   "source": [
    "# 3) - Medidas de Tendência Central"
   ]
  },
  {
   "cell_type": "markdown",
   "id": "b97dc7d8",
   "metadata": {},
   "source": [
    "## 3.1) - Média Aritmética"
   ]
  },
  {
   "cell_type": "markdown",
   "id": "3a25ceca",
   "metadata": {},
   "source": [
    "<img src=\"media_aritmetica.png\" width=\"1200\" heigth=\"1200\" />"
   ]
  },
  {
   "cell_type": "code",
   "execution_count": 114,
   "id": "2dfea581",
   "metadata": {},
   "outputs": [
    {
     "name": "stdout",
     "output_type": "stream",
     "text": [
      "Renda média:  2000.3831988547631\n",
      "Altura média:  1.6995124540575741\n",
      "Média dos anos de estudo:  9.469664237376367\n"
     ]
    }
   ],
   "source": [
    "print(\"Renda média: \", dt.Renda.mean())\n",
    "print(\"Altura média: \", dt.Altura.mean())\n",
    "print(\"Média dos anos de estudo: \", dt['Anos de Estudo'].mean())"
   ]
  },
  {
   "cell_type": "code",
   "execution_count": 115,
   "id": "c612ec73",
   "metadata": {},
   "outputs": [
    {
     "data": {
      "text/plain": [
       "Sexo\n",
       "0    2192.441596\n",
       "1    1566.847393\n",
       "Name: Renda, dtype: float64"
      ]
     },
     "execution_count": 115,
     "metadata": {},
     "output_type": "execute_result"
    }
   ],
   "source": [
    "dt.groupby('Sexo')['Renda'].mean()"
   ]
  },
  {
   "cell_type": "markdown",
   "id": "68fe24a9",
   "metadata": {},
   "source": [
    "## 3.2) - Mediana\n",
    "\n",
    "Mediana é o valor que divide um espaço amostral exatamente no meio."
   ]
  },
  {
   "cell_type": "markdown",
   "id": "8954c1e4",
   "metadata": {},
   "source": [
    "<img src=\"mediana.png\" width=\"1200\" heigth=\"1200\" />"
   ]
  },
  {
   "cell_type": "code",
   "execution_count": 116,
   "id": "610c40de",
   "metadata": {},
   "outputs": [
    {
     "name": "stdout",
     "output_type": "stream",
     "text": [
      "Mediana da renda:  1200.0\n",
      "Mediana da renda:  1200.0\n"
     ]
    }
   ],
   "source": [
    "print(\"Mediana da renda: \", dt.Renda.median())\n",
    "print(\"Mediana da renda: \", dt.Renda.quantile())"
   ]
  },
  {
   "cell_type": "code",
   "execution_count": 117,
   "id": "5cc90ba0",
   "metadata": {},
   "outputs": [
    {
     "data": {
      "text/plain": [
       "UF                  31.000000\n",
       "Sexo                 0.000000\n",
       "Idade               43.000000\n",
       "Cor                  4.000000\n",
       "Anos de Estudo      11.000000\n",
       "Renda             1200.000000\n",
       "Altura               1.699325\n",
       "dtype: float64"
      ]
     },
     "execution_count": 117,
     "metadata": {},
     "output_type": "execute_result"
    }
   ],
   "source": [
    "dt.median()"
   ]
  },
  {
   "cell_type": "markdown",
   "id": "24476ba3",
   "metadata": {},
   "source": [
    "## 3.3) - Moda\n",
    "\n",
    "Moda é o modelo estatístico que retorna o valor que mais se repete. Bastante utilizada para dados qualitativos categóricos."
   ]
  },
  {
   "cell_type": "code",
   "execution_count": 118,
   "id": "58caa144",
   "metadata": {},
   "outputs": [
    {
     "data": {
      "text/plain": [
       "0    8\n",
       "dtype: int64"
      ]
     },
     "execution_count": 118,
     "metadata": {},
     "output_type": "execute_result"
    }
   ],
   "source": [
    "valores = pd.Series([1,1,1,2,3,4,4,5,6,7,8,8,8,8,9])\n",
    "valores.mode()"
   ]
  },
  {
   "cell_type": "code",
   "execution_count": 119,
   "id": "4232fee4",
   "metadata": {},
   "outputs": [
    {
     "data": {
      "text/plain": [
       "0    788\n",
       "Name: Renda, dtype: int64"
      ]
     },
     "execution_count": 119,
     "metadata": {},
     "output_type": "execute_result"
    }
   ],
   "source": [
    "dt.Renda.mode()"
   ]
  },
  {
   "cell_type": "markdown",
   "id": "991b36a5",
   "metadata": {},
   "source": [
    "## 3.4) - Relação entre média, mediana e moda"
   ]
  },
  {
   "cell_type": "markdown",
   "id": "48a23f9e",
   "metadata": {},
   "source": [
    "<img src=\"graf_simetrias.png\" width=\"800\" heigth=\"800\" />"
   ]
  },
  {
   "cell_type": "code",
   "execution_count": 120,
   "id": "b1c3e4fd",
   "metadata": {},
   "outputs": [
    {
     "data": {
      "image/png": "[encoded data removed]",
      "text/plain": [
       "<Figure size 1200x600 with 1 Axes>"
      ]
     },
     "metadata": {},
     "output_type": "display_data"
    }
   ],
   "source": [
    "graf_1 = sns.displot(dt.query('Renda < 20000').Renda, kde = True)\n",
    "graf_1.figure.set_size_inches(12, 6)"
   ]
  },
  {
   "cell_type": "code",
   "execution_count": 121,
   "id": "42982eb3",
   "metadata": {},
   "outputs": [
    {
     "data": {
      "image/png": "[encoded data removed]",
      "text/plain": [
       "<Figure size 1200x600 with 1 Axes>"
      ]
     },
     "metadata": {},
     "output_type": "display_data"
    }
   ],
   "source": [
    "graf_2 = sns.displot(dt.Altura, kde=True)\n",
    "graf_2.figure.set_size_inches(12, 6)"
   ]
  },
  {
   "cell_type": "code",
   "execution_count": 122,
   "id": "20301b9e",
   "metadata": {},
   "outputs": [
    {
     "data": {
      "image/png": "[encoded data removed]",
      "text/plain": [
       "<Figure size 1200x600 with 1 Axes>"
      ]
     },
     "metadata": {},
     "output_type": "display_data"
    }
   ],
   "source": [
    "graf_3 = sns.displot(dt['Anos de Estudo'])\n",
    "graf_3.figure.set_size_inches(12, 6)"
   ]
  },
  {
   "cell_type": "code",
   "execution_count": 123,
   "id": "9323ba6c",
   "metadata": {},
   "outputs": [
    {
     "data": {
      "text/html": [
       "<div>\n",
       "<style scoped>\n",
       "    .dataframe tbody tr th:only-of-type {\n",
       "        vertical-align: middle;\n",
       "    }\n",
       "\n",
       "    .dataframe tbody tr th {\n",
       "        vertical-align: top;\n",
       "    }\n",
       "\n",
       "    .dataframe thead th {\n",
       "        text-align: right;\n",
       "    }\n",
       "</style>\n",
       "<table border=\"1\" class=\"dataframe\">\n",
       "  <thead>\n",
       "    <tr style=\"text-align: right;\">\n",
       "      <th></th>\n",
       "      <th>UF</th>\n",
       "      <th>Sexo</th>\n",
       "      <th>Idade</th>\n",
       "      <th>Cor</th>\n",
       "      <th>Anos de Estudo</th>\n",
       "      <th>Renda</th>\n",
       "      <th>Altura</th>\n",
       "    </tr>\n",
       "  </thead>\n",
       "  <tbody>\n",
       "    <tr>\n",
       "      <th>0</th>\n",
       "      <td>11</td>\n",
       "      <td>0</td>\n",
       "      <td>23</td>\n",
       "      <td>8</td>\n",
       "      <td>12</td>\n",
       "      <td>800</td>\n",
       "      <td>1.603808</td>\n",
       "    </tr>\n",
       "    <tr>\n",
       "      <th>1</th>\n",
       "      <td>11</td>\n",
       "      <td>1</td>\n",
       "      <td>23</td>\n",
       "      <td>2</td>\n",
       "      <td>12</td>\n",
       "      <td>1150</td>\n",
       "      <td>1.739790</td>\n",
       "    </tr>\n",
       "    <tr>\n",
       "      <th>2</th>\n",
       "      <td>11</td>\n",
       "      <td>1</td>\n",
       "      <td>35</td>\n",
       "      <td>8</td>\n",
       "      <td>15</td>\n",
       "      <td>880</td>\n",
       "      <td>1.760444</td>\n",
       "    </tr>\n",
       "    <tr>\n",
       "      <th>3</th>\n",
       "      <td>11</td>\n",
       "      <td>0</td>\n",
       "      <td>46</td>\n",
       "      <td>2</td>\n",
       "      <td>6</td>\n",
       "      <td>3500</td>\n",
       "      <td>1.783158</td>\n",
       "    </tr>\n",
       "    <tr>\n",
       "      <th>4</th>\n",
       "      <td>11</td>\n",
       "      <td>1</td>\n",
       "      <td>47</td>\n",
       "      <td>8</td>\n",
       "      <td>9</td>\n",
       "      <td>150</td>\n",
       "      <td>1.690631</td>\n",
       "    </tr>\n",
       "  </tbody>\n",
       "</table>\n",
       "</div>"
      ],
      "text/plain": [
       "   UF  Sexo  Idade  Cor  Anos de Estudo  Renda    Altura\n",
       "0  11     0     23    8              12    800  1.603808\n",
       "1  11     1     23    2              12   1150  1.739790\n",
       "2  11     1     35    8              15    880  1.760444\n",
       "3  11     0     46    2               6   3500  1.783158\n",
       "4  11     1     47    8               9    150  1.690631"
      ]
     },
     "execution_count": 123,
     "metadata": {},
     "output_type": "execute_result"
    }
   ],
   "source": [
    "dt.head()"
   ]
  },
  {
   "cell_type": "markdown",
   "id": "f3df22ed",
   "metadata": {},
   "source": [
    "# 4) - Medidas separatrizes"
   ]
  },
  {
   "cell_type": "code",
   "execution_count": 124,
   "id": "fe4b1965",
   "metadata": {},
   "outputs": [
    {
     "data": {
      "text/plain": [
       "1200.0"
      ]
     },
     "execution_count": 124,
     "metadata": {},
     "output_type": "execute_result"
    }
   ],
   "source": [
    "#mostra a mediana\n",
    "dt.Renda.quantile()"
   ]
  },
  {
   "cell_type": "markdown",
   "id": "69950991",
   "metadata": {},
   "source": [
    "### Mostrando os 25%"
   ]
  },
  {
   "cell_type": "code",
   "execution_count": 125,
   "id": "61ca7b37",
   "metadata": {},
   "outputs": [
    {
     "data": {
      "text/plain": [
       "788.0"
      ]
     },
     "execution_count": 125,
     "metadata": {},
     "output_type": "execute_result"
    }
   ],
   "source": [
    "dt.Renda.quantile(0.25)"
   ]
  },
  {
   "cell_type": "markdown",
   "id": "47dfb53e",
   "metadata": {},
   "source": [
    "### Mostrando os 50% (mediana)"
   ]
  },
  {
   "cell_type": "code",
   "execution_count": 126,
   "id": "af27459e",
   "metadata": {},
   "outputs": [
    {
     "data": {
      "text/plain": [
       "1200.0"
      ]
     },
     "execution_count": 126,
     "metadata": {},
     "output_type": "execute_result"
    }
   ],
   "source": [
    "dt.Renda.quantile(0.5)"
   ]
  },
  {
   "cell_type": "markdown",
   "id": "9f4ddc7c",
   "metadata": {},
   "source": [
    "### Mostrando os 75%"
   ]
  },
  {
   "cell_type": "code",
   "execution_count": 127,
   "id": "2b55b886",
   "metadata": {},
   "outputs": [
    {
     "data": {
      "text/plain": [
       "2000.0"
      ]
     },
     "execution_count": 127,
     "metadata": {},
     "output_type": "execute_result"
    }
   ],
   "source": [
    "dt.Renda.quantile(0.75)"
   ]
  },
  {
   "cell_type": "markdown",
   "id": "b9f83b3c",
   "metadata": {},
   "source": [
    "### Mostrando os dercis"
   ]
  },
  {
   "cell_type": "code",
   "execution_count": 128,
   "id": "f696a04c",
   "metadata": {},
   "outputs": [
    {
     "data": {
      "text/plain": [
       "0.1     350.0\n",
       "0.2     788.0\n",
       "0.3     800.0\n",
       "0.4    1000.0\n",
       "0.5    1200.0\n",
       "0.6    1500.0\n",
       "0.7    1900.0\n",
       "0.8    2500.0\n",
       "0.9    4000.0\n",
       "Name: Renda, dtype: float64"
      ]
     },
     "execution_count": 128,
     "metadata": {},
     "output_type": "execute_result"
    }
   ],
   "source": [
    "dt.Renda.quantile([i / 10 for i in range(1, 10)])"
   ]
  },
  {
   "cell_type": "code",
   "execution_count": 129,
   "id": "bc4d806b",
   "metadata": {},
   "outputs": [
    {
     "data": {
      "image/png": "[encoded data removed]",
      "text/plain": [
       "<Figure size 1200x600 with 1 Axes>"
      ]
     },
     "metadata": {},
     "output_type": "display_data"
    }
   ],
   "source": [
    "graf_1 = sns.distplot(dt.Renda, hist_kws = {\"cumulative\": True}, kde_kws = {\"cumulative\": True})\n",
    "graf_1.figure.set_size_inches(12, 6)"
   ]
  },
  {
   "cell_type": "code",
   "execution_count": 130,
   "id": "b2277aac",
   "metadata": {},
   "outputs": [
    {
     "data": {
      "image/png": "[encoded data removed]",
      "text/plain": [
       "<Figure size 1200x600 with 1 Axes>"
      ]
     },
     "metadata": {},
     "output_type": "display_data"
    }
   ],
   "source": [
    "graf_2 = sns.distplot(dt.Idade, hist_kws = {\"cumulative\": True}, kde_kws = {\"cumulative\": True})\n",
    "graf_2.figure.set_size_inches(12, 6)"
   ]
  },
  {
   "cell_type": "markdown",
   "id": "ef7eb1b5",
   "metadata": {},
   "source": [
    "# 4.2) Boxplot"
   ]
  },
  {
   "cell_type": "markdown",
   "id": "f3c7aeac",
   "metadata": {},
   "source": [
    "<img src=\"boxplot.png\" width=\"1200\" heigth=\"1200\" />"
   ]
  },
  {
   "cell_type": "code",
   "execution_count": 131,
   "id": "e2df919a",
   "metadata": {},
   "outputs": [
    {
     "data": {
      "text/plain": [
       "Text(0.5, 0, 'Metros')"
      ]
     },
     "execution_count": 131,
     "metadata": {},
     "output_type": "execute_result"
    },
    {
     "data": {
      "image/png": "[encoded data removed]",
      "text/plain": [
       "<Figure size 1200x400 with 1 Axes>"
      ]
     },
     "metadata": {},
     "output_type": "display_data"
    }
   ],
   "source": [
    "graf_1 = sns.boxplot(x = \"Altura\", data = dt)\n",
    "graf_1.figure.set_size_inches(12, 4)\n",
    "graf_1.set_title(\"Distribuição da altura\", fontsize=18)\n",
    "graf_1.set_xlabel(\"Metros\", fontsize=18)"
   ]
  },
  {
   "cell_type": "code",
   "execution_count": 132,
   "id": "ea990c95",
   "metadata": {},
   "outputs": [
    {
     "data": {
      "text/plain": [
       "Text(0.5, 1.0, 'Renda')"
      ]
     },
     "execution_count": 132,
     "metadata": {},
     "output_type": "execute_result"
    },
    {
     "data": {
      "image/png": "[encoded data removed]",
      "text/plain": [
       "<Figure size 1200x400 with 1 Axes>"
      ]
     },
     "metadata": {},
     "output_type": "display_data"
    }
   ],
   "source": [
    "graf_2 = sns.boxplot(x = \"Renda\", data = dt.query(\"Renda < 10000\"))\n",
    "graf_2.figure.set_size_inches(12, 4)\n",
    "graf_2.set_title(\"Renda\", fontsize=18)"
   ]
  },
  {
   "cell_type": "code",
   "execution_count": 133,
   "id": "3008c6f1",
   "metadata": {},
   "outputs": [
    {
     "data": {
      "text/plain": [
       "Text(0.5, 1.0, 'Renda')"
      ]
     },
     "execution_count": 133,
     "metadata": {},
     "output_type": "execute_result"
    },
    {
     "data": {
      "image/png": "[encoded data removed]",
      "text/plain": [
       "<Figure size 1600x400 with 1 Axes>"
      ]
     },
     "metadata": {},
     "output_type": "display_data"
    }
   ],
   "source": [
    "graf_2 = sns.boxplot(x = \"Renda\", y = \"Sexo\", data = dt.query(\"Renda < 10000\"), orient = 'h')\n",
    "graf_2.figure.set_size_inches(16, 4)\n",
    "graf_2.set_title(\"Renda\", fontsize=18)"
   ]
  },
  {
   "cell_type": "code",
   "execution_count": 134,
   "id": "32b5fa21",
   "metadata": {},
   "outputs": [
    {
     "data": {
      "text/plain": [
       "Text(0, 0.5, 'Idade')"
      ]
     },
     "execution_count": 134,
     "metadata": {},
     "output_type": "execute_result"
    },
    {
     "data": {
      "image/png": "[encoded data removed]",
      "text/plain": [
       "<Figure size 2000x1000 with 1 Axes>"
      ]
     },
     "metadata": {},
     "output_type": "display_data"
    }
   ],
   "source": [
    "graf_3 = sns.boxplot(x = \"Anos de Estudo\", y = \"Idade\", data = dt)\n",
    "graf_3.figure.set_size_inches(20, 10)\n",
    "graf_3.set_xlabel(\"Anos de Estudo\", fontsize=\"18\")\n",
    "graf_3.set_ylabel(\"Idade\", fontsize=\"18\")"
   ]
  },
  {
   "cell_type": "markdown",
   "id": "ba5b9a8e",
   "metadata": {},
   "source": [
    "# 5) - Desvio Médio Absoluto "
   ]
  },
  {
   "cell_type": "markdown",
   "id": "7bce57c2",
   "metadata": {},
   "source": [
    "<img src=\"desvio_medio_absoluto.png\" widith=\"600\" heigth=\"600\" />"
   ]
  },
  {
   "cell_type": "markdown",
   "id": "ace667c3",
   "metadata": {},
   "source": [
    "Muito utilizada para caracterizar conjuntos distintos, especialmente em conjuntos de dados muito dispersos.\n",
    "\n",
    "Utiliza-se a função .mad()"
   ]
  },
  {
   "cell_type": "markdown",
   "id": "773678b8",
   "metadata": {},
   "source": [
    "### Criando um novo dataframe para exemplificar"
   ]
  },
  {
   "cell_type": "code",
   "execution_count": 135,
   "id": "27237666",
   "metadata": {},
   "outputs": [
    {
     "data": {
      "text/html": [
       "<div>\n",
       "<style scoped>\n",
       "    .dataframe tbody tr th:only-of-type {\n",
       "        vertical-align: middle;\n",
       "    }\n",
       "\n",
       "    .dataframe tbody tr th {\n",
       "        vertical-align: top;\n",
       "    }\n",
       "\n",
       "    .dataframe thead th {\n",
       "        text-align: right;\n",
       "    }\n",
       "</style>\n",
       "<table border=\"1\" class=\"dataframe\">\n",
       "  <thead>\n",
       "    <tr style=\"text-align: right;\">\n",
       "      <th>Matérias</th>\n",
       "      <th>Fulano</th>\n",
       "      <th>Beltrano</th>\n",
       "      <th>Cicrano</th>\n",
       "    </tr>\n",
       "  </thead>\n",
       "  <tbody>\n",
       "    <tr>\n",
       "      <th>Matemática</th>\n",
       "      <td>8</td>\n",
       "      <td>10.0</td>\n",
       "      <td>7.5</td>\n",
       "    </tr>\n",
       "    <tr>\n",
       "      <th>Português</th>\n",
       "      <td>10</td>\n",
       "      <td>2.0</td>\n",
       "      <td>8.0</td>\n",
       "    </tr>\n",
       "    <tr>\n",
       "      <th>Inglês</th>\n",
       "      <td>4</td>\n",
       "      <td>0.5</td>\n",
       "      <td>7.0</td>\n",
       "    </tr>\n",
       "    <tr>\n",
       "      <th>Geografia</th>\n",
       "      <td>8</td>\n",
       "      <td>1.0</td>\n",
       "      <td>8.0</td>\n",
       "    </tr>\n",
       "    <tr>\n",
       "      <th>História</th>\n",
       "      <td>6</td>\n",
       "      <td>3.0</td>\n",
       "      <td>8.0</td>\n",
       "    </tr>\n",
       "    <tr>\n",
       "      <th>Física</th>\n",
       "      <td>10</td>\n",
       "      <td>9.5</td>\n",
       "      <td>8.5</td>\n",
       "    </tr>\n",
       "    <tr>\n",
       "      <th>Química</th>\n",
       "      <td>8</td>\n",
       "      <td>10.0</td>\n",
       "      <td>7.0</td>\n",
       "    </tr>\n",
       "  </tbody>\n",
       "</table>\n",
       "</div>"
      ],
      "text/plain": [
       "Matérias    Fulano  Beltrano  Cicrano\n",
       "Matemática       8      10.0      7.5\n",
       "Português       10       2.0      8.0\n",
       "Inglês           4       0.5      7.0\n",
       "Geografia        8       1.0      8.0\n",
       "História         6       3.0      8.0\n",
       "Física          10       9.5      8.5\n",
       "Química          8      10.0      7.0"
      ]
     },
     "execution_count": 135,
     "metadata": {},
     "output_type": "execute_result"
    }
   ],
   "source": [
    "df_alunos = pd.DataFrame(data = {\"Fulano\":[8, 10, 4, 8, 6, 10, 8],\n",
    "                                 \"Beltrano\": [10, 2, 0.5, 1, 3, 9.5, 10],\n",
    "                                 \"Cicrano\": [7.5, 8, 7, 8, 8, 8.5, 7]}, \n",
    "                         index = [\"Matemática\",\n",
    "                                  \"Português\",\n",
    "                                  \"Inglês\", \n",
    "                                  \"Geografia\", \n",
    "                                  \"História\",\n",
    "                                  \"Física\",\n",
    "                                  \"Química\"])\n",
    "df_alunos.rename_axis(\"Matérias\", axis = \"columns\", inplace = True)\n",
    "df_alunos"
   ]
  },
  {
   "cell_type": "markdown",
   "id": "d39cea51",
   "metadata": {},
   "source": [
    "## Passo a passo para o cálculo do desvio absoluto"
   ]
  },
  {
   "cell_type": "code",
   "execution_count": 136,
   "id": "ce7c71c7",
   "metadata": {},
   "outputs": [
    {
     "data": {
      "text/html": [
       "<div>\n",
       "<style scoped>\n",
       "    .dataframe tbody tr th:only-of-type {\n",
       "        vertical-align: middle;\n",
       "    }\n",
       "\n",
       "    .dataframe tbody tr th {\n",
       "        vertical-align: top;\n",
       "    }\n",
       "\n",
       "    .dataframe thead th {\n",
       "        text-align: right;\n",
       "    }\n",
       "</style>\n",
       "<table border=\"1\" class=\"dataframe\">\n",
       "  <thead>\n",
       "    <tr style=\"text-align: right;\">\n",
       "      <th>Matérias</th>\n",
       "      <th>Fulano</th>\n",
       "    </tr>\n",
       "  </thead>\n",
       "  <tbody>\n",
       "    <tr>\n",
       "      <th>Matemática</th>\n",
       "      <td>8</td>\n",
       "    </tr>\n",
       "    <tr>\n",
       "      <th>Português</th>\n",
       "      <td>10</td>\n",
       "    </tr>\n",
       "    <tr>\n",
       "      <th>Inglês</th>\n",
       "      <td>4</td>\n",
       "    </tr>\n",
       "    <tr>\n",
       "      <th>Geografia</th>\n",
       "      <td>8</td>\n",
       "    </tr>\n",
       "    <tr>\n",
       "      <th>História</th>\n",
       "      <td>6</td>\n",
       "    </tr>\n",
       "    <tr>\n",
       "      <th>Física</th>\n",
       "      <td>10</td>\n",
       "    </tr>\n",
       "    <tr>\n",
       "      <th>Química</th>\n",
       "      <td>8</td>\n",
       "    </tr>\n",
       "  </tbody>\n",
       "</table>\n",
       "</div>"
      ],
      "text/plain": [
       "Matérias    Fulano\n",
       "Matemática       8\n",
       "Português       10\n",
       "Inglês           4\n",
       "Geografia        8\n",
       "História         6\n",
       "Física          10\n",
       "Química          8"
      ]
     },
     "execution_count": 136,
     "metadata": {},
     "output_type": "execute_result"
    }
   ],
   "source": [
    "#1) - Encontre os valores de Xi (nesse caso, serão as notas)\n",
    "notas_fulano = df_alunos[['Fulano']]\n",
    "notas_fulano"
   ]
  },
  {
   "cell_type": "code",
   "execution_count": 137,
   "id": "cac6623d",
   "metadata": {},
   "outputs": [
    {
     "data": {
      "text/plain": [
       "7.714285714285714"
      ]
     },
     "execution_count": 137,
     "metadata": {},
     "output_type": "execute_result"
    }
   ],
   "source": [
    "#2) - Encontre a média X\n",
    "media_notas = notas_fulano['Fulano'].mean()\n",
    "media_notas"
   ]
  },
  {
   "cell_type": "code",
   "execution_count": 138,
   "id": "0b4d3839",
   "metadata": {},
   "outputs": [
    {
     "data": {
      "text/html": [
       "<div>\n",
       "<style scoped>\n",
       "    .dataframe tbody tr th:only-of-type {\n",
       "        vertical-align: middle;\n",
       "    }\n",
       "\n",
       "    .dataframe tbody tr th {\n",
       "        vertical-align: top;\n",
       "    }\n",
       "\n",
       "    .dataframe thead th {\n",
       "        text-align: right;\n",
       "    }\n",
       "</style>\n",
       "<table border=\"1\" class=\"dataframe\">\n",
       "  <thead>\n",
       "    <tr style=\"text-align: right;\">\n",
       "      <th>Matérias</th>\n",
       "      <th>Fulano</th>\n",
       "      <th>Desvio</th>\n",
       "    </tr>\n",
       "  </thead>\n",
       "  <tbody>\n",
       "    <tr>\n",
       "      <th>Matemática</th>\n",
       "      <td>8</td>\n",
       "      <td>0.285714</td>\n",
       "    </tr>\n",
       "    <tr>\n",
       "      <th>Português</th>\n",
       "      <td>10</td>\n",
       "      <td>2.285714</td>\n",
       "    </tr>\n",
       "    <tr>\n",
       "      <th>Inglês</th>\n",
       "      <td>4</td>\n",
       "      <td>-3.714286</td>\n",
       "    </tr>\n",
       "    <tr>\n",
       "      <th>Geografia</th>\n",
       "      <td>8</td>\n",
       "      <td>0.285714</td>\n",
       "    </tr>\n",
       "    <tr>\n",
       "      <th>História</th>\n",
       "      <td>6</td>\n",
       "      <td>-1.714286</td>\n",
       "    </tr>\n",
       "    <tr>\n",
       "      <th>Física</th>\n",
       "      <td>10</td>\n",
       "      <td>2.285714</td>\n",
       "    </tr>\n",
       "    <tr>\n",
       "      <th>Química</th>\n",
       "      <td>8</td>\n",
       "      <td>0.285714</td>\n",
       "    </tr>\n",
       "  </tbody>\n",
       "</table>\n",
       "</div>"
      ],
      "text/plain": [
       "Matérias    Fulano    Desvio\n",
       "Matemática       8  0.285714\n",
       "Português       10  2.285714\n",
       "Inglês           4 -3.714286\n",
       "Geografia        8  0.285714\n",
       "História         6 -1.714286\n",
       "Física          10  2.285714\n",
       "Química          8  0.285714"
      ]
     },
     "execution_count": 138,
     "metadata": {},
     "output_type": "execute_result"
    }
   ],
   "source": [
    "#3) - Subtraia Xi - X\n",
    "notas_fulano['Desvio'] = notas_fulano['Fulano'] - media_notas\n",
    "notas_fulano"
   ]
  },
  {
   "cell_type": "code",
   "execution_count": 139,
   "id": "05e13769",
   "metadata": {},
   "outputs": [
    {
     "data": {
      "text/html": [
       "<div>\n",
       "<style scoped>\n",
       "    .dataframe tbody tr th:only-of-type {\n",
       "        vertical-align: middle;\n",
       "    }\n",
       "\n",
       "    .dataframe tbody tr th {\n",
       "        vertical-align: top;\n",
       "    }\n",
       "\n",
       "    .dataframe thead th {\n",
       "        text-align: right;\n",
       "    }\n",
       "</style>\n",
       "<table border=\"1\" class=\"dataframe\">\n",
       "  <thead>\n",
       "    <tr style=\"text-align: right;\">\n",
       "      <th>Matérias</th>\n",
       "      <th>Fulano</th>\n",
       "      <th>Desvio</th>\n",
       "      <th>Desvio Absoluto</th>\n",
       "    </tr>\n",
       "  </thead>\n",
       "  <tbody>\n",
       "    <tr>\n",
       "      <th>Matemática</th>\n",
       "      <td>8</td>\n",
       "      <td>0.285714</td>\n",
       "      <td>0.285714</td>\n",
       "    </tr>\n",
       "    <tr>\n",
       "      <th>Português</th>\n",
       "      <td>10</td>\n",
       "      <td>2.285714</td>\n",
       "      <td>2.285714</td>\n",
       "    </tr>\n",
       "    <tr>\n",
       "      <th>Inglês</th>\n",
       "      <td>4</td>\n",
       "      <td>-3.714286</td>\n",
       "      <td>3.714286</td>\n",
       "    </tr>\n",
       "    <tr>\n",
       "      <th>Geografia</th>\n",
       "      <td>8</td>\n",
       "      <td>0.285714</td>\n",
       "      <td>0.285714</td>\n",
       "    </tr>\n",
       "    <tr>\n",
       "      <th>História</th>\n",
       "      <td>6</td>\n",
       "      <td>-1.714286</td>\n",
       "      <td>1.714286</td>\n",
       "    </tr>\n",
       "    <tr>\n",
       "      <th>Física</th>\n",
       "      <td>10</td>\n",
       "      <td>2.285714</td>\n",
       "      <td>2.285714</td>\n",
       "    </tr>\n",
       "    <tr>\n",
       "      <th>Química</th>\n",
       "      <td>8</td>\n",
       "      <td>0.285714</td>\n",
       "      <td>0.285714</td>\n",
       "    </tr>\n",
       "  </tbody>\n",
       "</table>\n",
       "</div>"
      ],
      "text/plain": [
       "Matérias    Fulano    Desvio  Desvio Absoluto\n",
       "Matemática       8  0.285714         0.285714\n",
       "Português       10  2.285714         2.285714\n",
       "Inglês           4 -3.714286         3.714286\n",
       "Geografia        8  0.285714         0.285714\n",
       "História         6 -1.714286         1.714286\n",
       "Física          10  2.285714         2.285714\n",
       "Química          8  0.285714         0.285714"
      ]
     },
     "execution_count": 139,
     "metadata": {},
     "output_type": "execute_result"
    }
   ],
   "source": [
    "#4) - O desvio não pode ser negativo, portanto aplica-se o absoluto\n",
    "notas_fulano['Desvio Absoluto'] = notas_fulano['Desvio'].abs()\n",
    "notas_fulano"
   ]
  },
  {
   "cell_type": "code",
   "execution_count": 140,
   "id": "940b30c6",
   "metadata": {},
   "outputs": [
    {
     "data": {
      "text/plain": [
       "1.5510204081632648"
      ]
     },
     "execution_count": 140,
     "metadata": {},
     "output_type": "execute_result"
    }
   ],
   "source": [
    "#5) - Agora soma todos os valores do desvio absoluto e divide pelo total de ocorrências (média), que será o valor do\n",
    "#desvio médio padrão\n",
    "\n",
    "notas_fulano['Desvio Absoluto'].mean()"
   ]
  },
  {
   "cell_type": "markdown",
   "id": "bbcb4210",
   "metadata": {},
   "source": [
    "### Os passos anteriores foram para explicitar como é feito o cálculo do desvio padrão.\n",
    "Para tal, existe um método agregando todos esses passos chamado .mad()"
   ]
  },
  {
   "cell_type": "code",
   "execution_count": 141,
   "id": "7b1d10b7",
   "metadata": {},
   "outputs": [],
   "source": [
    "#df_alunos.mad()"
   ]
  },
  {
   "cell_type": "markdown",
   "id": "0999c759",
   "metadata": {},
   "source": [
    "# 5.1) - Variância"
   ]
  },
  {
   "cell_type": "markdown",
   "id": "a26016c7",
   "metadata": {},
   "source": [
    "µ = Média populacional"
   ]
  },
  {
   "cell_type": "markdown",
   "id": "f89877c9",
   "metadata": {},
   "source": [
    "<img src=\"variancia.png\" width=\"1200\" heigth=\"1200\" />"
   ]
  },
  {
   "cell_type": "markdown",
   "id": "63eb32b0",
   "metadata": {},
   "source": [
    "## Variância Amostral"
   ]
  },
  {
   "cell_type": "code",
   "execution_count": 142,
   "id": "bc3fb413",
   "metadata": {},
   "outputs": [
    {
     "data": {
      "text/html": [
       "<div>\n",
       "<style scoped>\n",
       "    .dataframe tbody tr th:only-of-type {\n",
       "        vertical-align: middle;\n",
       "    }\n",
       "\n",
       "    .dataframe tbody tr th {\n",
       "        vertical-align: top;\n",
       "    }\n",
       "\n",
       "    .dataframe thead th {\n",
       "        text-align: right;\n",
       "    }\n",
       "</style>\n",
       "<table border=\"1\" class=\"dataframe\">\n",
       "  <thead>\n",
       "    <tr style=\"text-align: right;\">\n",
       "      <th>Matérias</th>\n",
       "      <th>Fulano</th>\n",
       "      <th>Desvio</th>\n",
       "      <th>Desvio Absoluto</th>\n",
       "      <th>(Desvio)^2</th>\n",
       "    </tr>\n",
       "  </thead>\n",
       "  <tbody>\n",
       "    <tr>\n",
       "      <th>Matemática</th>\n",
       "      <td>8</td>\n",
       "      <td>0.285714</td>\n",
       "      <td>0.285714</td>\n",
       "      <td>0.081633</td>\n",
       "    </tr>\n",
       "    <tr>\n",
       "      <th>Português</th>\n",
       "      <td>10</td>\n",
       "      <td>2.285714</td>\n",
       "      <td>2.285714</td>\n",
       "      <td>5.224490</td>\n",
       "    </tr>\n",
       "    <tr>\n",
       "      <th>Inglês</th>\n",
       "      <td>4</td>\n",
       "      <td>-3.714286</td>\n",
       "      <td>3.714286</td>\n",
       "      <td>13.795918</td>\n",
       "    </tr>\n",
       "    <tr>\n",
       "      <th>Geografia</th>\n",
       "      <td>8</td>\n",
       "      <td>0.285714</td>\n",
       "      <td>0.285714</td>\n",
       "      <td>0.081633</td>\n",
       "    </tr>\n",
       "    <tr>\n",
       "      <th>História</th>\n",
       "      <td>6</td>\n",
       "      <td>-1.714286</td>\n",
       "      <td>1.714286</td>\n",
       "      <td>2.938776</td>\n",
       "    </tr>\n",
       "    <tr>\n",
       "      <th>Física</th>\n",
       "      <td>10</td>\n",
       "      <td>2.285714</td>\n",
       "      <td>2.285714</td>\n",
       "      <td>5.224490</td>\n",
       "    </tr>\n",
       "    <tr>\n",
       "      <th>Química</th>\n",
       "      <td>8</td>\n",
       "      <td>0.285714</td>\n",
       "      <td>0.285714</td>\n",
       "      <td>0.081633</td>\n",
       "    </tr>\n",
       "  </tbody>\n",
       "</table>\n",
       "</div>"
      ],
      "text/plain": [
       "Matérias    Fulano    Desvio  Desvio Absoluto  (Desvio)^2\n",
       "Matemática       8  0.285714         0.285714    0.081633\n",
       "Português       10  2.285714         2.285714    5.224490\n",
       "Inglês           4 -3.714286         3.714286   13.795918\n",
       "Geografia        8  0.285714         0.285714    0.081633\n",
       "História         6 -1.714286         1.714286    2.938776\n",
       "Física          10  2.285714         2.285714    5.224490\n",
       "Química          8  0.285714         0.285714    0.081633"
      ]
     },
     "execution_count": 142,
     "metadata": {},
     "output_type": "execute_result"
    }
   ],
   "source": [
    "# 1) - Eleva ao quadrado a diferença entre o a nota e a média (desvio) \n",
    "notas_fulano[\"(Desvio)^2\"] = notas_fulano['Desvio Absoluto'].pow(2)\n",
    "notas_fulano"
   ]
  },
  {
   "cell_type": "code",
   "execution_count": 143,
   "id": "b7d47ce5",
   "metadata": {},
   "outputs": [
    {
     "data": {
      "text/plain": [
       "4.57142857142857"
      ]
     },
     "execution_count": 143,
     "metadata": {},
     "output_type": "execute_result"
    }
   ],
   "source": [
    "# 1) - Divide pela média - 1\n",
    "vari_amostral = (notas_fulano['(Desvio)^2'].sum()) / (len(notas_fulano['(Desvio)^2']) - 1)\n",
    "vari_amostral"
   ]
  },
  {
   "cell_type": "code",
   "execution_count": 144,
   "id": "0feca696",
   "metadata": {},
   "outputs": [
    {
     "data": {
      "text/plain": [
       "4.57142857142857"
      ]
     },
     "execution_count": 144,
     "metadata": {},
     "output_type": "execute_result"
    }
   ],
   "source": [
    "#Calculando a variância amostral diretamente através do var()\n",
    "variancia = notas_fulano['Fulano'].var()\n",
    "variancia"
   ]
  },
  {
   "cell_type": "markdown",
   "id": "f51bd10c",
   "metadata": {},
   "source": [
    "# 5.2) - Desvio Padrão"
   ]
  },
  {
   "cell_type": "markdown",
   "id": "4e63a375",
   "metadata": {},
   "source": [
    "Uma das restrições da variância é o fato de fornecer medidas em quadrados das unidades originais - a variância de medidas de comprimento, por exemplo, é em unidades de área. Logo, o fato de as unidades serem diferentes dificulta a comparação da dispersão com as variáveis que a definem. Um modo de eliminar essa dificuldade é considerar sua raiz quadrada.\n",
    "\n",
    "Na estatística, em grande parte das vezes, utiliza-se o desvio padrão amostral, dado que usa-se mais a amostra populacional do que a população total.\n"
   ]
  },
  {
   "cell_type": "markdown",
   "id": "83a875c9",
   "metadata": {},
   "source": [
    "<img scr=\"variancia.png\" width=\"600\" heigth=\"600\" />"
   ]
  },
  {
   "cell_type": "markdown",
   "id": "5293a223",
   "metadata": {},
   "source": [
    "<img src=\"desvio_pop.png\" width=\"1200\" heigth=\"1200\" />"
   ]
  },
  {
   "cell_type": "code",
   "execution_count": null,
   "id": "d28e3f58",
   "metadata": {},
   "outputs": [],
   "source": []
  }
 ],
 "metadata": {
  "kernelspec": {
   "display_name": "Python 3 (ipykernel)",
   "language": "python",
   "name": "python3"
  },
  "language_info": {
   "codemirror_mode": {
    "name": "ipython",
    "version": 3
   },
   "file_extension": ".py",
   "mimetype": "text/x-python",
   "name": "python",
   "nbconvert_exporter": "python",
   "pygments_lexer": "ipython3",
   "version": "3.12.1"
  }
 },
 "nbformat": 4,
 "nbformat_minor": 5
}
